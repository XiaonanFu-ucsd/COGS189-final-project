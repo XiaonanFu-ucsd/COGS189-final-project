{
 "cells": [
  {
   "cell_type": "code",
   "execution_count": 5,
   "metadata": {},
   "outputs": [],
   "source": [
    "import numpy as np                                      \n",
    "import matplotlib.pyplot as plt                         \n",
    "# import matplotlib.patches as patches\n",
    "# import seaborn as sns\n",
    "# import scipy.signal as signal \n",
    "# from scipy.io import loadmat\n",
    "from sklearn.discriminant_analysis import LinearDiscriminantAnalysis\n",
    "from sklearn.model_selection import cross_val_score\n",
    "from sklearn.metrics import roc_curve, auc\n",
    "from sklearn.model_selection import StratifiedKFold\n",
    "from sklearn.ensemble import RandomForestClassifier\n",
    "import loader_2015_epoch as loader2015\n",
    "from sklearn.model_selection import train_test_split\n",
    "from sklearn.metrics import confusion_matrix\n",
    "import torch\n",
    "from torch import nn\n",
    "from torch import optim\n",
    "from torch.utils.data import DataLoader\n",
    "import torch.nn.functional as F\n",
    "from torch.cuda.amp import autocast as autocast\n",
    "\n",
    "from sklearn.metrics import classification_report, f1_score"
   ]
  },
  {
   "cell_type": "code",
   "execution_count": 6,
   "metadata": {},
   "outputs": [
    {
     "name": "stdout",
     "output_type": "stream",
     "text": [
      "cpu\n"
     ]
    }
   ],
   "source": [
    "# If there are GPUs, choose the first one for computing. Otherwise use CPU.\n",
    "device = torch.device(\"cuda:0\" if torch.cuda.is_available() else \"cpu\")\n",
    "print(device)\n",
    "# If 'cuda:0' is printed, it means GPU is available."
   ]
  },
  {
   "cell_type": "code",
   "execution_count": 7,
   "metadata": {},
   "outputs": [],
   "source": [
    "class SeparableConv2d(nn.Module):\n",
    "    def __init__(self, in_channels, out_channels, kernel_size, padding='same'):\n",
    "        super(SeparableConv2d, self).__init__()\n",
    "        self.depthwise = nn.Conv2d(in_channels, in_channels, kernel_size=kernel_size, \n",
    "                                groups=in_channels, padding=padding)\n",
    "        self.pointwise = nn.Conv2d(in_channels, out_channels, \n",
    "                                kernel_size=1)\n",
    "\n",
    "    def forward(self, x):\n",
    "        out = self.depthwise(x)\n",
    "        out = self.pointwise(out)\n",
    "        return out\n",
    "\n",
    "class EEGNet(nn.Module):\n",
    "    # expected input size: (batch_size, 32, 1, 128)\n",
    "    def __init__(self, time_length, num_chans, output_size, dropout=0.25):\n",
    "        super(EEGNet, self).__init__()\n",
    "        self.time_length = time_length\n",
    "        self.num_chans = num_chans\n",
    "        \n",
    "        self.conv1 = nn.Sequential(\n",
    "            nn.Conv2d(num_chans, 8, (1, 64), padding = 'same'),\n",
    "            nn.BatchNorm2d(8),\n",
    "            nn.Conv2d(8, 16, 1, groups=8),\n",
    "            nn.BatchNorm2d(16),\n",
    "            nn.ELU(inplace=True),\n",
    "            nn.AvgPool2d((1, 2)),\n",
    "            nn.Dropout(dropout)\n",
    "        )\n",
    "        self.conv2 = nn.Sequential(\n",
    "            SeparableConv2d(16, 16, (1, 32), padding = 'same'),\n",
    "            nn.BatchNorm2d(16),\n",
    "            # nn.Conv2d(256, 32, (1, 4), padding='same'),\n",
    "            # nn.BatchNorm2d(32),\n",
    "            nn.ELU(inplace=True),\n",
    "            nn.AvgPool2d((1, 2)),\n",
    "            nn.Dropout(dropout)\n",
    "        )\n",
    "        \n",
    "        self.fc1 = nn.Sequential(\n",
    "            nn.Linear(512, output_size)\n",
    "        )\n",
    "\n",
    "    def forward(self, x):\n",
    "        # reshape to (batch_size, 32, 1, 128)\n",
    "        x = torch.reshape(x, (x.shape[0], self.num_chans, 1, self.time_length))\n",
    "        x = self.conv1(x)\n",
    "        x = self.conv2(x)\n",
    "        x = x.view(x.size(0), -1)\n",
    "        x = self.fc1(x)\n",
    "        return x"
   ]
  },
  {
   "cell_type": "code",
   "execution_count": 8,
   "metadata": {},
   "outputs": [],
   "source": [
    "net = EEGNet(128, 32, 2)\n",
    "net.to(device);"
   ]
  },
  {
   "cell_type": "code",
   "execution_count": 9,
   "metadata": {},
   "outputs": [],
   "source": [
    "class_weights = [1, 6]\n",
    "loss_func = nn.CrossEntropyLoss(weight=torch.FloatTensor(class_weights).to(device))\n",
    "#loss_func = nn.CrossEntropyLoss()\n",
    "opt = optim.Adam(net.parameters(), lr=0.001)"
   ]
  },
  {
   "cell_type": "code",
   "execution_count": 10,
   "metadata": {},
   "outputs": [],
   "source": [
    "# Define our filter variables\n",
    "fs = 512                      # Hz; sampling rate\n",
    "dt = 1000. / fs                 # ms; time between samples\n",
    "sdt = dt#np.round(dt).astype(int); # rounded dt so that we can index samples\n",
    "hp = 1                        # Hz; our low cut for our bandpass\n",
    "lp = 24.                        # Hz; our high cut for our bandpass\n",
    "num_taps = 31                   # Number of taps/coefficients of FIR filter\n",
    "\n",
    "# Create our filter coefficients\n",
    "# Note: by defining 'fs' we don't divide our windows by the Nyquist\n",
    "# Note: for FIR filters, a is always 1\n",
    "# b = signal.firwin(numtaps=num_taps, cutoff=[hp, lp], pass_zero='bandpass', fs=fs)\n",
    "# a = 1\n",
    "\n",
    "# Define ERP-related variables\n",
    "epoch_start = 0    # ms\n",
    "epoch_end = 800    # ms\n",
    "baseline_start = 0 # ms\n",
    "baseline_end = 100 # ms\n",
    "erp_start = 0    # ms\n",
    "erp_end = 800      # ms\n",
    "\n",
    "# Let's translate these from time into index space to save time later\n",
    "e_s = np.round(epoch_start / sdt).astype(int)     # epoch start\n",
    "e_e = np.round(epoch_end / sdt).astype(int)       # epoch end\n",
    "bl_s = np.round(baseline_start / sdt).astype(int) # baseline start\n",
    "bl_e = np.round(baseline_end / sdt).astype(int)   # baseline end\n",
    "erp_s = np.round(erp_start / sdt).astype(int)     # ERP component window start\n",
    "erp_e = np.round(erp_end / sdt).astype(int)       # ERP component window end"
   ]
  },
  {
   "cell_type": "code",
   "execution_count": 11,
   "metadata": {},
   "outputs": [
    {
     "name": "stdout",
     "output_type": "stream",
     "text": [
      "(array([0., 1.]), array([40581,  8115]))\n"
     ]
    }
   ],
   "source": [
    "# load data\n",
    "X_train, y_train = loader2015.load(1, 31)\n",
    "X_test, y_test = loader2015.load(31, 44)\n",
    "\n",
    "y_train[y_train == -1] = 0\n",
    "y_test[y_test == -1] = 0\n",
    "print(np.unique(y_train, return_counts=True))\n",
    "\n",
    "# pre-processing, inplace\n",
    "def preprocess(x):\n",
    "    for i in range(x.shape[0]):\n",
    "        # correct DC offset of signal\n",
    "        x[i] = x[i] - np.mean(x[i], axis=1).reshape(-1, 1)\n",
    "        \n",
    "        sd_every_chan = np.std(x[i], axis=1).reshape(-1, 1)\n",
    "        x[i] = x[i] / sd_every_chan\n",
    "        \n",
    "        # bandpass filter\n",
    "        #x[i] = signal.filtfilt(b, a, x[i], axis=1)\n",
    "        # baseline correction\n",
    "        #x[i] = x[i] - np.mean(x[i][bl_s:bl_e], axis=0)\n",
    "\n",
    "preprocess(X_train)\n",
    "preprocess(X_test)\n",
    "\n",
    "num_points = 128; # we will divide our window into num_points means\n",
    "# Define a simple windowed means function\n",
    "def wm(x, start, end, num_points):\n",
    "    num_trials = x.shape[0] # assumes first dem is numb observations\n",
    "    num_chans = x.shape[1] # assumes last dim is num channels\n",
    "    len_time = x.shape[2] # assumes second dim is time\n",
    "    w = np.round((end-start)/num_points)\n",
    "    y = np.zeros((num_trials, num_chans, num_points))\n",
    "    for i in range(0, num_points):\n",
    "        s = (start + (w * i))\n",
    "        e = (s + w)\n",
    "        if e > len_time:\n",
    "            e = len_time\n",
    "        y[:,:,i] = np.mean(x[:,:,s.astype(int):e.astype(int)], axis=2)\n",
    "    return y\n",
    "\n",
    "X_train = wm(X_train, erp_s, erp_e, num_points).astype(np.float32)\n",
    "X_test = wm(X_test, erp_s, erp_e, num_points).astype(np.float32)\n",
    "\n",
    "# transpose each epoch to (1, 128, 32)\n",
    "tmp_x = []\n",
    "for i in range(X_train.shape[0]):\n",
    "    tmp_x.append(np.transpose(X_train[i]))\n",
    "X_train = np.array(tmp_x)\n",
    "tmp_x = []\n",
    "for i in range(X_test.shape[0]):\n",
    "    tmp_x.append(np.transpose(X_test[i]))\n",
    "X_test = np.array(tmp_x)\n",
    "del tmp_x\n",
    "\n",
    "trainset = torch.utils.data.TensorDataset(torch.from_numpy(X_train), torch.from_numpy(y_train))\n",
    "testset = torch.utils.data.TensorDataset(torch.from_numpy(X_test), torch.from_numpy(y_test))\n",
    "trainloader = DataLoader(trainset, batch_size=512, shuffle=True)\n",
    "testloader = DataLoader(testset, batch_size=256, shuffle=False)"
   ]
  },
  {
   "cell_type": "code",
   "execution_count": 12,
   "metadata": {},
   "outputs": [
    {
     "name": "stdout",
     "output_type": "stream",
     "text": [
      "Total epochs: 154\n"
     ]
    },
    {
     "name": "stderr",
     "output_type": "stream",
     "text": [
      "/opt/conda/lib/python3.10/site-packages/torch/nn/modules/conv.py:459: UserWarning: Using padding='same' with even kernel lengths and odd dilation may require a zero-padded copy of the input be created (Triggered internally at /opt/conda/conda-bld/pytorch_1670525552843/work/aten/src/ATen/native/Convolution.cpp:895.)\n",
      "  return F.conv2d(input, weight, bias, self.stride,\n"
     ]
    },
    {
     "name": "stdout",
     "output_type": "stream",
     "text": [
      "[epoch: 1, i:   108] avg mini-batch loss: 0.184 avg mini-batch acc: 0.723\n",
      "[epoch: 3, i:    26] avg mini-batch loss: 0.044 avg mini-batch acc: 0.754\n",
      "[epoch: 4, i:   135] avg mini-batch loss: 0.212 avg mini-batch acc: 0.711\n",
      "[epoch: 6, i:    53] avg mini-batch loss: 0.082 avg mini-batch acc: 0.730\n",
      "[epoch: 7, i:   162] avg mini-batch loss: 0.244 avg mini-batch acc: 0.789\n",
      "[epoch: 9, i:    80] avg mini-batch loss: 0.120 avg mini-batch acc: 0.777\n",
      "[epoch: 10, i:   189] avg mini-batch loss: 0.275 avg mini-batch acc: 0.773\n",
      "[epoch: 12, i:   107] avg mini-batch loss: 0.155 avg mini-batch acc: 0.781\n",
      "[epoch: 14, i:    25] avg mini-batch loss: 0.037 avg mini-batch acc: 0.824\n",
      "[epoch: 15, i:   134] avg mini-batch loss: 0.187 avg mini-batch acc: 0.758\n",
      "[epoch: 17, i:    52] avg mini-batch loss: 0.074 avg mini-batch acc: 0.754\n",
      "[epoch: 18, i:   161] avg mini-batch loss: 0.221 avg mini-batch acc: 0.801\n",
      "[epoch: 20, i:    79] avg mini-batch loss: 0.106 avg mini-batch acc: 0.836\n",
      "[epoch: 21, i:   188] avg mini-batch loss: 0.254 avg mini-batch acc: 0.789\n",
      "[epoch: 23, i:   106] avg mini-batch loss: 0.140 avg mini-batch acc: 0.832\n",
      "[epoch: 25, i:    24] avg mini-batch loss: 0.032 avg mini-batch acc: 0.797\n",
      "[epoch: 26, i:   133] avg mini-batch loss: 0.176 avg mini-batch acc: 0.770\n",
      "[epoch: 28, i:    51] avg mini-batch loss: 0.066 avg mini-batch acc: 0.777\n",
      "[epoch: 29, i:   160] avg mini-batch loss: 0.205 avg mini-batch acc: 0.781\n",
      "[epoch: 31, i:    78] avg mini-batch loss: 0.098 avg mini-batch acc: 0.840\n",
      "[epoch: 32, i:   187] avg mini-batch loss: 0.236 avg mini-batch acc: 0.750\n",
      "[epoch: 34, i:   105] avg mini-batch loss: 0.132 avg mini-batch acc: 0.777\n",
      "[epoch: 36, i:    23] avg mini-batch loss: 0.029 avg mini-batch acc: 0.812\n",
      "[epoch: 37, i:   132] avg mini-batch loss: 0.160 avg mini-batch acc: 0.828\n",
      "[epoch: 39, i:    50] avg mini-batch loss: 0.061 avg mini-batch acc: 0.797\n",
      "[epoch: 40, i:   159] avg mini-batch loss: 0.190 avg mini-batch acc: 0.801\n",
      "[epoch: 42, i:    77] avg mini-batch loss: 0.092 avg mini-batch acc: 0.805\n",
      "[epoch: 43, i:   186] avg mini-batch loss: 0.218 avg mini-batch acc: 0.820\n",
      "[epoch: 45, i:   104] avg mini-batch loss: 0.119 avg mini-batch acc: 0.852\n",
      "[epoch: 47, i:    22] avg mini-batch loss: 0.026 avg mini-batch acc: 0.832\n",
      "[epoch: 48, i:   131] avg mini-batch loss: 0.149 avg mini-batch acc: 0.820\n",
      "[epoch: 50, i:    49] avg mini-batch loss: 0.054 avg mini-batch acc: 0.844\n",
      "[epoch: 51, i:   158] avg mini-batch loss: 0.180 avg mini-batch acc: 0.762\n",
      "[epoch: 53, i:    76] avg mini-batch loss: 0.085 avg mini-batch acc: 0.840\n",
      "[epoch: 54, i:   185] avg mini-batch loss: 0.208 avg mini-batch acc: 0.848\n",
      "[epoch: 56, i:   103] avg mini-batch loss: 0.113 avg mini-batch acc: 0.863\n",
      "[epoch: 58, i:    21] avg mini-batch loss: 0.023 avg mini-batch acc: 0.848\n",
      "[epoch: 59, i:   130] avg mini-batch loss: 0.143 avg mini-batch acc: 0.836\n",
      "[epoch: 61, i:    48] avg mini-batch loss: 0.052 avg mini-batch acc: 0.840\n",
      "[epoch: 62, i:   157] avg mini-batch loss: 0.170 avg mini-batch acc: 0.848\n",
      "[epoch: 64, i:    75] avg mini-batch loss: 0.079 avg mini-batch acc: 0.844\n",
      "[epoch: 65, i:   184] avg mini-batch loss: 0.197 avg mini-batch acc: 0.820\n",
      "[epoch: 67, i:   102] avg mini-batch loss: 0.108 avg mini-batch acc: 0.879\n",
      "[epoch: 69, i:    20] avg mini-batch loss: 0.022 avg mini-batch acc: 0.844\n",
      "[epoch: 70, i:   129] avg mini-batch loss: 0.136 avg mini-batch acc: 0.832\n",
      "[epoch: 72, i:    47] avg mini-batch loss: 0.048 avg mini-batch acc: 0.832\n",
      "[epoch: 73, i:   156] avg mini-batch loss: 0.161 avg mini-batch acc: 0.859\n",
      "[epoch: 75, i:    74] avg mini-batch loss: 0.075 avg mini-batch acc: 0.875\n",
      "[epoch: 76, i:   183] avg mini-batch loss: 0.188 avg mini-batch acc: 0.867\n",
      "[epoch: 78, i:   101] avg mini-batch loss: 0.100 avg mini-batch acc: 0.852\n",
      "[epoch: 80, i:    19] avg mini-batch loss: 0.020 avg mini-batch acc: 0.828\n",
      "[epoch: 81, i:   128] avg mini-batch loss: 0.128 avg mini-batch acc: 0.848\n"
     ]
    }
   ],
   "source": [
    "avg_losses = []   # Avg. losses.\n",
    "epochs = min(320, int(7500000/trainloader.dataset.tensors[0].shape[0]))       # Total epochs.\n",
    "print('Total epochs: {}'.format(epochs))\n",
    "print_freq = 300  # Print frequency.\n",
    "\n",
    "iter_count = 0\n",
    "\n",
    "net.train()\n",
    "for epoch in range(epochs):  # Loop over the dataset multiple times.\n",
    "    running_loss = 0.0       # Initialize running loss.\n",
    "    for i, data in enumerate(trainloader, 0):\n",
    "        # Get the inputs.\n",
    "        inputs, labels = data\n",
    "        \n",
    "        # Move the inputs to the specified device.\n",
    "        inputs, labels = inputs.to(device), labels.to(device)\n",
    "        \n",
    "        # Zero the parameter gradients.\n",
    "        opt.zero_grad()\n",
    "\n",
    "        # Forward step.\n",
    "        #with autocast():\n",
    "        outputs = net(inputs)\n",
    "        labels = labels.reshape(-1,).long()\n",
    "        l = labels.cpu().numpy()\n",
    "        # print(np.unique(l, return_counts=True))\n",
    "        # print(outputs.shape, labels.shape)\n",
    "        loss = loss_func(outputs, labels)\n",
    "        \n",
    "        # Backward step.\n",
    "        loss.backward()\n",
    "        \n",
    "        # Optimization step (update the parameters).\n",
    "        opt.step()\n",
    "\n",
    "        # Print statistics.\n",
    "        running_loss += loss.item()\n",
    "        if iter_count % print_freq == print_freq - 1: # Print every several mini-batches.\n",
    "            avg_loss = running_loss / print_freq\n",
    "            avg_acc = (outputs.argmax(dim=1) == labels).float().mean()\n",
    "            \n",
    "            print('[epoch: {}, i: {:5d}] avg mini-batch loss: {:.3f} avg mini-batch acc: {:.3f}'.format(\n",
    "                epoch, i, avg_loss, avg_acc))\n",
    "            avg_losses.append(avg_loss)\n",
    "            running_loss = 0.0\n",
    "            \n",
    "        iter_count += 1\n",
    "\n",
    "print('Finished Training.')"
   ]
  },
  {
   "cell_type": "code",
   "execution_count": null,
   "metadata": {},
   "outputs": [
    {
     "data": {
      "image/png": "[encoded data removed]",
      "text/plain": [
       "<Figure size 640x480 with 1 Axes>"
      ]
     },
     "metadata": {},
     "output_type": "display_data"
    }
   ],
   "source": [
    "plt.plot(avg_losses)\n",
    "plt.xlabel('mini-batch index / {}'.format(print_freq))\n",
    "plt.ylabel('avg. mini-batch loss')\n",
    "plt.show()"
   ]
  },
  {
   "cell_type": "code",
   "execution_count": null,
   "metadata": {},
   "outputs": [
    {
     "name": "stdout",
     "output_type": "stream",
     "text": [
      "(array([0, 1]), array([190,  66]))\n",
      "(array([0, 1]), array([197,  59]))\n",
      "(array([0, 1]), array([192,  64]))\n",
      "(array([0, 1]), array([211,  45]))\n",
      "(array([0, 1]), array([189,  67]))\n",
      "(array([0, 1]), array([194,  62]))\n",
      "(array([0, 1]), array([198,  58]))\n",
      "(array([0, 1]), array([192,  64]))\n",
      "(array([0, 1]), array([210,  46]))\n",
      "(array([0, 1]), array([192,  64]))\n",
      "(array([0, 1]), array([187,  69]))\n",
      "(array([0, 1]), array([194,  62]))\n",
      "(array([0, 1]), array([209,  47]))\n",
      "(array([0, 1]), array([199,  57]))\n",
      "(array([0, 1]), array([178,  78]))\n",
      "(array([0, 1]), array([203,  53]))\n",
      "(array([0, 1]), array([193,  63]))\n",
      "(array([0, 1]), array([191,  65]))\n",
      "(array([0, 1]), array([197,  59]))\n",
      "(array([0, 1]), array([201,  55]))\n",
      "(array([0, 1]), array([182,  74]))\n",
      "(array([0, 1]), array([193,  63]))\n",
      "(array([0, 1]), array([184,  72]))\n",
      "(array([0, 1]), array([187,  69]))\n",
      "(array([0, 1]), array([194,  62]))\n",
      "(array([0, 1]), array([191,  65]))\n",
      "(array([0, 1]), array([199,  57]))\n",
      "(array([0, 1]), array([195,  61]))\n",
      "(array([0, 1]), array([200,  56]))\n",
      "(array([0, 1]), array([182,  74]))\n",
      "(array([0, 1]), array([201,  55]))\n",
      "(array([0, 1]), array([197,  59]))\n",
      "(array([0, 1]), array([191,  65]))\n",
      "(array([0, 1]), array([204,  52]))\n",
      "(array([0, 1]), array([203,  53]))\n",
      "(array([0, 1]), array([194,  62]))\n",
      "Accuracy on the testset: 91 %\n"
     ]
    }
   ],
   "source": [
    "# Get test accuracy.\n",
    "correct = 0\n",
    "total = 0\n",
    "net.eval()\n",
    "y_pred = np.array([])\n",
    "with torch.no_grad():\n",
    "    for data in trainloader:\n",
    "        x, y = data\n",
    "        x, y = x.to(device), y.to(device)\n",
    "        outputs = net(x)\n",
    "        _, predicted = torch.max(outputs.data, 1)\n",
    "        if correct % 5 == 1:\n",
    "            print(np.unique(predicted.cpu().numpy(), return_counts=True))\n",
    "        total += y.size(0)\n",
    "        correct += (predicted == y).sum().item()\n",
    "        y_pred = np.append(y_pred, predicted.cpu().numpy())\n",
    "\n",
    "print('Accuracy on the testset: %d %%' % (\n",
    "    100 * correct / total))\n"
   ]
  },
  {
   "cell_type": "code",
   "execution_count": null,
   "metadata": {},
   "outputs": [
    {
     "name": "stdout",
     "output_type": "stream",
     "text": [
      "(array([0., 1.]), array([37133, 11563]))\n",
      "(array([0., 1.]), array([40581,  8115]))\n",
      "0.49312418498444666\n",
      "              precision    recall  f1-score   support\n",
      "\n",
      "         0.0       0.83      0.76      0.80     40581\n",
      "         1.0       0.16      0.23      0.19      8115\n",
      "\n",
      "    accuracy                           0.67     48696\n",
      "   macro avg       0.50      0.50      0.49     48696\n",
      "weighted avg       0.72      0.67      0.69     48696\n",
      "\n",
      "tn, fp, fn, tp [30898  9683  6235  1880]\n"
     ]
    }
   ],
   "source": [
    "print(np.unique(y_pred, return_counts=True))\n",
    "y_test = trainloader.dataset.tensors[1].numpy()\n",
    "print(np.unique(y_test, return_counts=True))\n",
    "print(f1_score(y_test, y_pred, average='macro'))\n",
    "print(classification_report(y_test, y_pred))\n",
    "print(\"tn, fp, fn, tp\", confusion_matrix(y_test, y_pred).ravel())"
   ]
  },
  {
   "cell_type": "code",
   "execution_count": null,
   "metadata": {},
   "outputs": [],
   "source": [
    "# Get test accuracy.\n",
    "correct = 0\n",
    "total = 0\n",
    "net.eval()\n",
    "y_pred = np.array([])\n",
    "with torch.no_grad():\n",
    "    for data in testloader:\n",
    "        x, y = data\n",
    "        x, y = x.to(device), y.to(device)\n",
    "        outputs = net(x)\n",
    "        _, predicted = torch.max(outputs.data, 1)\n",
    "        if correct % 5 == 1:\n",
    "            print(np.unique(predicted.cpu().numpy(), return_counts=True))\n",
    "        total += y.size(0)\n",
    "        correct += (predicted == y).sum().item()\n",
    "        y_pred = np.append(y_pred, predicted.cpu().numpy())\n",
    "\n",
    "print('Accuracy on the testset: %d %%' % (\n",
    "    100 * correct / total))\n"
   ]
  },
  {
   "cell_type": "code",
   "execution_count": null,
   "metadata": {},
   "outputs": [
    {
     "name": "stdout",
     "output_type": "stream",
     "text": [
      "(array([0., 1.]), array([37133, 11563]))\n",
      "(array([0., 1.]), array([18990,  3798]))\n"
     ]
    },
    {
     "ename": "ValueError",
     "evalue": "Found input variables with inconsistent numbers of samples: [22788, 48696]",
     "output_type": "error",
     "traceback": [
      "\u001b[0;31m---------------------------------------------------------------------------\u001b[0m",
      "\u001b[0;31mValueError\u001b[0m                                Traceback (most recent call last)",
      "Cell \u001b[0;32mIn[13], line 4\u001b[0m\n\u001b[1;32m      2\u001b[0m y_test \u001b[39m=\u001b[39m testloader\u001b[39m.\u001b[39mdataset\u001b[39m.\u001b[39mtensors[\u001b[39m1\u001b[39m]\u001b[39m.\u001b[39mnumpy()\n\u001b[1;32m      3\u001b[0m \u001b[39mprint\u001b[39m(np\u001b[39m.\u001b[39munique(y_test, return_counts\u001b[39m=\u001b[39m\u001b[39mTrue\u001b[39;00m))\n\u001b[0;32m----> 4\u001b[0m \u001b[39mprint\u001b[39m(f1_score(y_test, y_pred, average\u001b[39m=\u001b[39;49m\u001b[39m'\u001b[39;49m\u001b[39mmacro\u001b[39;49m\u001b[39m'\u001b[39;49m))\n\u001b[1;32m      5\u001b[0m \u001b[39mprint\u001b[39m(classification_report(y_test, y_pred))\n\u001b[1;32m      6\u001b[0m \u001b[39mprint\u001b[39m(\u001b[39m\"\u001b[39m\u001b[39mtn, fp, fn, tp\u001b[39m\u001b[39m\"\u001b[39m, confusion_matrix(y_test, y_pred)\u001b[39m.\u001b[39mravel())\n",
      "File \u001b[0;32m/opt/conda/lib/python3.10/site-packages/sklearn/metrics/_classification.py:1146\u001b[0m, in \u001b[0;36mf1_score\u001b[0;34m(y_true, y_pred, labels, pos_label, average, sample_weight, zero_division)\u001b[0m\n\u001b[1;32m   1011\u001b[0m \u001b[39mdef\u001b[39;00m \u001b[39mf1_score\u001b[39m(\n\u001b[1;32m   1012\u001b[0m     y_true,\n\u001b[1;32m   1013\u001b[0m     y_pred,\n\u001b[0;32m   (...)\u001b[0m\n\u001b[1;32m   1019\u001b[0m     zero_division\u001b[39m=\u001b[39m\u001b[39m\"\u001b[39m\u001b[39mwarn\u001b[39m\u001b[39m\"\u001b[39m,\n\u001b[1;32m   1020\u001b[0m ):\n\u001b[1;32m   1021\u001b[0m     \u001b[39m\"\"\"Compute the F1 score, also known as balanced F-score or F-measure.\u001b[39;00m\n\u001b[1;32m   1022\u001b[0m \n\u001b[1;32m   1023\u001b[0m \u001b[39m    The F1 score can be interpreted as a harmonic mean of the precision and\u001b[39;00m\n\u001b[0;32m   (...)\u001b[0m\n\u001b[1;32m   1144\u001b[0m \u001b[39m    array([0.66666667, 1.        , 0.66666667])\u001b[39;00m\n\u001b[1;32m   1145\u001b[0m \u001b[39m    \"\"\"\u001b[39;00m\n\u001b[0;32m-> 1146\u001b[0m     \u001b[39mreturn\u001b[39;00m fbeta_score(\n\u001b[1;32m   1147\u001b[0m         y_true,\n\u001b[1;32m   1148\u001b[0m         y_pred,\n\u001b[1;32m   1149\u001b[0m         beta\u001b[39m=\u001b[39;49m\u001b[39m1\u001b[39;49m,\n\u001b[1;32m   1150\u001b[0m         labels\u001b[39m=\u001b[39;49mlabels,\n\u001b[1;32m   1151\u001b[0m         pos_label\u001b[39m=\u001b[39;49mpos_label,\n\u001b[1;32m   1152\u001b[0m         average\u001b[39m=\u001b[39;49maverage,\n\u001b[1;32m   1153\u001b[0m         sample_weight\u001b[39m=\u001b[39;49msample_weight,\n\u001b[1;32m   1154\u001b[0m         zero_division\u001b[39m=\u001b[39;49mzero_division,\n\u001b[1;32m   1155\u001b[0m     )\n",
      "File \u001b[0;32m/opt/conda/lib/python3.10/site-packages/sklearn/metrics/_classification.py:1287\u001b[0m, in \u001b[0;36mfbeta_score\u001b[0;34m(y_true, y_pred, beta, labels, pos_label, average, sample_weight, zero_division)\u001b[0m\n\u001b[1;32m   1158\u001b[0m \u001b[39mdef\u001b[39;00m \u001b[39mfbeta_score\u001b[39m(\n\u001b[1;32m   1159\u001b[0m     y_true,\n\u001b[1;32m   1160\u001b[0m     y_pred,\n\u001b[0;32m   (...)\u001b[0m\n\u001b[1;32m   1167\u001b[0m     zero_division\u001b[39m=\u001b[39m\u001b[39m\"\u001b[39m\u001b[39mwarn\u001b[39m\u001b[39m\"\u001b[39m,\n\u001b[1;32m   1168\u001b[0m ):\n\u001b[1;32m   1169\u001b[0m     \u001b[39m\"\"\"Compute the F-beta score.\u001b[39;00m\n\u001b[1;32m   1170\u001b[0m \n\u001b[1;32m   1171\u001b[0m \u001b[39m    The F-beta score is the weighted harmonic mean of precision and recall,\u001b[39;00m\n\u001b[0;32m   (...)\u001b[0m\n\u001b[1;32m   1284\u001b[0m \u001b[39m    array([0.71..., 0.        , 0.        ])\u001b[39;00m\n\u001b[1;32m   1285\u001b[0m \u001b[39m    \"\"\"\u001b[39;00m\n\u001b[0;32m-> 1287\u001b[0m     _, _, f, _ \u001b[39m=\u001b[39m precision_recall_fscore_support(\n\u001b[1;32m   1288\u001b[0m         y_true,\n\u001b[1;32m   1289\u001b[0m         y_pred,\n\u001b[1;32m   1290\u001b[0m         beta\u001b[39m=\u001b[39;49mbeta,\n\u001b[1;32m   1291\u001b[0m         labels\u001b[39m=\u001b[39;49mlabels,\n\u001b[1;32m   1292\u001b[0m         pos_label\u001b[39m=\u001b[39;49mpos_label,\n\u001b[1;32m   1293\u001b[0m         average\u001b[39m=\u001b[39;49maverage,\n\u001b[1;32m   1294\u001b[0m         warn_for\u001b[39m=\u001b[39;49m(\u001b[39m\"\u001b[39;49m\u001b[39mf-score\u001b[39;49m\u001b[39m\"\u001b[39;49m,),\n\u001b[1;32m   1295\u001b[0m         sample_weight\u001b[39m=\u001b[39;49msample_weight,\n\u001b[1;32m   1296\u001b[0m         zero_division\u001b[39m=\u001b[39;49mzero_division,\n\u001b[1;32m   1297\u001b[0m     )\n\u001b[1;32m   1298\u001b[0m     \u001b[39mreturn\u001b[39;00m f\n",
      "File \u001b[0;32m/opt/conda/lib/python3.10/site-packages/sklearn/metrics/_classification.py:1573\u001b[0m, in \u001b[0;36mprecision_recall_fscore_support\u001b[0;34m(y_true, y_pred, beta, labels, pos_label, average, warn_for, sample_weight, zero_division)\u001b[0m\n\u001b[1;32m   1571\u001b[0m \u001b[39mif\u001b[39;00m beta \u001b[39m<\u001b[39m \u001b[39m0\u001b[39m:\n\u001b[1;32m   1572\u001b[0m     \u001b[39mraise\u001b[39;00m \u001b[39mValueError\u001b[39;00m(\u001b[39m\"\u001b[39m\u001b[39mbeta should be >=0 in the F-beta score\u001b[39m\u001b[39m\"\u001b[39m)\n\u001b[0;32m-> 1573\u001b[0m labels \u001b[39m=\u001b[39m _check_set_wise_labels(y_true, y_pred, average, labels, pos_label)\n\u001b[1;32m   1575\u001b[0m \u001b[39m# Calculate tp_sum, pred_sum, true_sum ###\u001b[39;00m\n\u001b[1;32m   1576\u001b[0m samplewise \u001b[39m=\u001b[39m average \u001b[39m==\u001b[39m \u001b[39m\"\u001b[39m\u001b[39msamples\u001b[39m\u001b[39m\"\u001b[39m\n",
      "File \u001b[0;32m/opt/conda/lib/python3.10/site-packages/sklearn/metrics/_classification.py:1374\u001b[0m, in \u001b[0;36m_check_set_wise_labels\u001b[0;34m(y_true, y_pred, average, labels, pos_label)\u001b[0m\n\u001b[1;32m   1371\u001b[0m \u001b[39mif\u001b[39;00m average \u001b[39mnot\u001b[39;00m \u001b[39min\u001b[39;00m average_options \u001b[39mand\u001b[39;00m average \u001b[39m!=\u001b[39m \u001b[39m\"\u001b[39m\u001b[39mbinary\u001b[39m\u001b[39m\"\u001b[39m:\n\u001b[1;32m   1372\u001b[0m     \u001b[39mraise\u001b[39;00m \u001b[39mValueError\u001b[39;00m(\u001b[39m\"\u001b[39m\u001b[39maverage has to be one of \u001b[39m\u001b[39m\"\u001b[39m \u001b[39m+\u001b[39m \u001b[39mstr\u001b[39m(average_options))\n\u001b[0;32m-> 1374\u001b[0m y_type, y_true, y_pred \u001b[39m=\u001b[39m _check_targets(y_true, y_pred)\n\u001b[1;32m   1375\u001b[0m \u001b[39m# Convert to Python primitive type to avoid NumPy type / Python str\u001b[39;00m\n\u001b[1;32m   1376\u001b[0m \u001b[39m# comparison. See https://github.com/numpy/numpy/issues/6784\u001b[39;00m\n\u001b[1;32m   1377\u001b[0m present_labels \u001b[39m=\u001b[39m unique_labels(y_true, y_pred)\u001b[39m.\u001b[39mtolist()\n",
      "File \u001b[0;32m/opt/conda/lib/python3.10/site-packages/sklearn/metrics/_classification.py:86\u001b[0m, in \u001b[0;36m_check_targets\u001b[0;34m(y_true, y_pred)\u001b[0m\n\u001b[1;32m     59\u001b[0m \u001b[39mdef\u001b[39;00m \u001b[39m_check_targets\u001b[39m(y_true, y_pred):\n\u001b[1;32m     60\u001b[0m     \u001b[39m\"\"\"Check that y_true and y_pred belong to the same classification task.\u001b[39;00m\n\u001b[1;32m     61\u001b[0m \n\u001b[1;32m     62\u001b[0m \u001b[39m    This converts multiclass or binary types to a common shape, and raises a\u001b[39;00m\n\u001b[0;32m   (...)\u001b[0m\n\u001b[1;32m     84\u001b[0m \u001b[39m    y_pred : array or indicator matrix\u001b[39;00m\n\u001b[1;32m     85\u001b[0m \u001b[39m    \"\"\"\u001b[39;00m\n\u001b[0;32m---> 86\u001b[0m     check_consistent_length(y_true, y_pred)\n\u001b[1;32m     87\u001b[0m     type_true \u001b[39m=\u001b[39m type_of_target(y_true, input_name\u001b[39m=\u001b[39m\u001b[39m\"\u001b[39m\u001b[39my_true\u001b[39m\u001b[39m\"\u001b[39m)\n\u001b[1;32m     88\u001b[0m     type_pred \u001b[39m=\u001b[39m type_of_target(y_pred, input_name\u001b[39m=\u001b[39m\u001b[39m\"\u001b[39m\u001b[39my_pred\u001b[39m\u001b[39m\"\u001b[39m)\n",
      "File \u001b[0;32m/opt/conda/lib/python3.10/site-packages/sklearn/utils/validation.py:397\u001b[0m, in \u001b[0;36mcheck_consistent_length\u001b[0;34m(*arrays)\u001b[0m\n\u001b[1;32m    395\u001b[0m uniques \u001b[39m=\u001b[39m np\u001b[39m.\u001b[39munique(lengths)\n\u001b[1;32m    396\u001b[0m \u001b[39mif\u001b[39;00m \u001b[39mlen\u001b[39m(uniques) \u001b[39m>\u001b[39m \u001b[39m1\u001b[39m:\n\u001b[0;32m--> 397\u001b[0m     \u001b[39mraise\u001b[39;00m \u001b[39mValueError\u001b[39;00m(\n\u001b[1;32m    398\u001b[0m         \u001b[39m\"\u001b[39m\u001b[39mFound input variables with inconsistent numbers of samples: \u001b[39m\u001b[39m%r\u001b[39;00m\u001b[39m\"\u001b[39m\n\u001b[1;32m    399\u001b[0m         \u001b[39m%\u001b[39m [\u001b[39mint\u001b[39m(l) \u001b[39mfor\u001b[39;00m l \u001b[39min\u001b[39;00m lengths]\n\u001b[1;32m    400\u001b[0m     )\n",
      "\u001b[0;31mValueError\u001b[0m: Found input variables with inconsistent numbers of samples: [22788, 48696]"
     ]
    }
   ],
   "source": [
    "print(np.unique(y_pred, return_counts=True))\n",
    "y_test = testloader.dataset.tensors[1].numpy()\n",
    "print(np.unique(y_test, return_counts=True))\n",
    "print(f1_score(y_test, y_pred, average='macro'))\n",
    "print(classification_report(y_test, y_pred))\n",
    "print(\"tn, fp, fn, tp\", confusion_matrix(y_test, y_pred).ravel())"
   ]
  }
 ],
 "metadata": {
  "kernelspec": {
   "display_name": "base",
   "language": "python",
   "name": "python3"
  },
  "language_info": {
   "codemirror_mode": {
    "name": "ipython",
    "version": 3
   },
   "file_extension": ".py",
   "mimetype": "text/x-python",
   "name": "python",
   "nbconvert_exporter": "python",
   "pygments_lexer": "ipython3",
   "version": "3.10.8"
  },
  "orig_nbformat": 4
 },
 "nbformat": 4,
 "nbformat_minor": 2
}
