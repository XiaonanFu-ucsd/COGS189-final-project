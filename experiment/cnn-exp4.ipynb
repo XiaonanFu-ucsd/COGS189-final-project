{
 "cells": [
  {
   "cell_type": "code",
   "execution_count": 161,
   "metadata": {},
   "outputs": [],
   "source": [
    "import numpy as np                                      \n",
    "import matplotlib.pyplot as plt                         \n",
    "# import matplotlib.patches as patches\n",
    "# import seaborn as sns\n",
    "# import scipy.signal as signal \n",
    "# from scipy.io import loadmat\n",
    "from sklearn.discriminant_analysis import LinearDiscriminantAnalysis\n",
    "from sklearn.model_selection import cross_val_score\n",
    "from sklearn.metrics import roc_curve, auc\n",
    "from sklearn.model_selection import StratifiedKFold\n",
    "from sklearn.ensemble import RandomForestClassifier\n",
    "import loader_2015_epoch as loader2015\n",
    "from sklearn.model_selection import train_test_split\n",
    "from sklearn.metrics import confusion_matrix\n",
    "import torch\n",
    "from torch import nn\n",
    "from torch import optim\n",
    "from torch.utils.data import DataLoader\n",
    "import torch.nn.functional as F\n",
    "from torch.cuda.amp import autocast as autocast\n",
    "\n",
    "from sklearn.metrics import classification_report, f1_score"
   ]
  },
  {
   "cell_type": "code",
   "execution_count": 162,
   "metadata": {},
   "outputs": [
    {
     "name": "stdout",
     "output_type": "stream",
     "text": [
      "cuda:0\n"
     ]
    }
   ],
   "source": [
    "# If there are GPUs, choose the first one for computing. Otherwise use CPU.\n",
    "device = torch.device(\"cuda:0\" if torch.cuda.is_available() else \"cpu\")\n",
    "print(device)\n",
    "# If 'cuda:0' is printed, it means GPU is available."
   ]
  },
  {
   "cell_type": "code",
   "execution_count": 163,
   "metadata": {},
   "outputs": [],
   "source": [
    "class SeparableConv2d(nn.Module):\n",
    "    def __init__(self, in_channels, out_channels, kernel_size, padding='same'):\n",
    "        super(SeparableConv2d, self).__init__()\n",
    "        self.depthwise = nn.Conv2d(in_channels, in_channels, kernel_size=kernel_size, \n",
    "                                groups=in_channels, padding=padding)\n",
    "        self.pointwise = nn.Conv2d(in_channels, out_channels, \n",
    "                                kernel_size=1)\n",
    "\n",
    "    def forward(self, x):\n",
    "        out = self.depthwise(x)\n",
    "        out = self.pointwise(out)\n",
    "        return out\n",
    "\n",
    "class EEGNet(nn.Module):\n",
    "    # expected input size: (batch_size, 32, 1, 128)\n",
    "    def __init__(self, time_length, num_chans, output_size, dropout=0.5):\n",
    "        super(EEGNet, self).__init__()\n",
    "        self.time_length = time_length\n",
    "        self.num_chans = num_chans\n",
    "        \n",
    "        self.conv1 = nn.Sequential(\n",
    "            nn.Conv2d(num_chans, 16, (1, 64), padding = 'same'),\n",
    "            nn.BatchNorm2d(16),\n",
    "            nn.Conv2d(16, 32, 1, groups=8),\n",
    "            nn.BatchNorm2d(32),\n",
    "            nn.ELU(inplace=True),\n",
    "            nn.AvgPool2d((1, 2)),\n",
    "            nn.Dropout(dropout)\n",
    "        )\n",
    "        self.conv2 = nn.Sequential(\n",
    "            SeparableConv2d(32, 64, (1, 32), padding = 'same'),\n",
    "            nn.BatchNorm2d(64),\n",
    "            # nn.Conv2d(256, 32, (1, 4), padding='same'),\n",
    "            # nn.BatchNorm2d(32),\n",
    "            nn.ELU(inplace=True),\n",
    "            nn.AvgPool2d((1, 4)),\n",
    "            nn.Dropout(dropout)\n",
    "        )\n",
    "        \n",
    "        self.fc1 = nn.Sequential(\n",
    "            # nn.Linear(2048, 2048),\n",
    "            # nn.ReLU(inplace=True),\n",
    "            # nn.Linear(2048, 2048),\n",
    "            # nn.ReLU(inplace=True),\n",
    "            # nn.Linear(2048, 512),\n",
    "            # nn.ReLU(inplace=True),\n",
    "            # nn.Dropout(dropout),\n",
    "            nn.Linear(1024, output_size)\n",
    "        )\n",
    "\n",
    "    def forward(self, x):\n",
    "        # reshape to (batch_size, 32, 1, 128)\n",
    "        x = torch.reshape(x, (x.shape[0], self.num_chans, 1, self.time_length))\n",
    "        x = self.conv1(x)\n",
    "        x = self.conv2(x)\n",
    "        x = x.view(x.size(0), -1)\n",
    "        x = self.fc1(x)\n",
    "        return x"
   ]
  },
  {
   "cell_type": "code",
   "execution_count": 164,
   "metadata": {},
   "outputs": [],
   "source": [
    "net = EEGNet(128, 32, 2)\n",
    "net.to(device);"
   ]
  },
  {
   "cell_type": "code",
   "execution_count": 165,
   "metadata": {},
   "outputs": [],
   "source": [
    "class_weights = [2, 10]\n",
    "loss_func = nn.CrossEntropyLoss(weight=torch.FloatTensor(class_weights).to(device))\n",
    "#loss_func = nn.CrossEntropyLoss()\n",
    "opt = optim.Adam(net.parameters(), lr=0.001)"
   ]
  },
  {
   "cell_type": "code",
   "execution_count": 166,
   "metadata": {},
   "outputs": [],
   "source": [
    "# Define our filter variables\n",
    "fs = 512                      # Hz; sampling rate\n",
    "dt = 1000. / fs                 # ms; time between samples\n",
    "sdt = dt#np.round(dt).astype(int); # rounded dt so that we can index samples\n",
    "hp = 1                        # Hz; our low cut for our bandpass\n",
    "lp = 24.                        # Hz; our high cut for our bandpass\n",
    "num_taps = 31                   # Number of taps/coefficients of FIR filter\n",
    "\n",
    "# Create our filter coefficients\n",
    "# Note: by defining 'fs' we don't divide our windows by the Nyquist\n",
    "# Note: for FIR filters, a is always 1\n",
    "# b = signal.firwin(numtaps=num_taps, cutoff=[hp, lp], pass_zero='bandpass', fs=fs)\n",
    "# a = 1\n",
    "\n",
    "# Define ERP-related variables\n",
    "epoch_start = 0    # ms\n",
    "epoch_end = 800    # ms\n",
    "baseline_start = 0 # ms\n",
    "baseline_end = 100 # ms\n",
    "erp_start = 0    # ms\n",
    "erp_end = 800      # ms\n",
    "\n",
    "# Let's translate these from time into index space to save time later\n",
    "e_s = np.round(epoch_start / sdt).astype(int)     # epoch start\n",
    "e_e = np.round(epoch_end / sdt).astype(int)       # epoch end\n",
    "bl_s = np.round(baseline_start / sdt).astype(int) # baseline start\n",
    "bl_e = np.round(baseline_end / sdt).astype(int)   # baseline end\n",
    "erp_s = np.round(erp_start / sdt).astype(int)     # ERP component window start\n",
    "erp_e = np.round(erp_end / sdt).astype(int)       # ERP component window end"
   ]
  },
  {
   "cell_type": "code",
   "execution_count": 167,
   "metadata": {},
   "outputs": [
    {
     "name": "stdout",
     "output_type": "stream",
     "text": [
      "(array([0., 1.]), array([6261, 1251]))\n"
     ]
    }
   ],
   "source": [
    "# load data\n",
    "X_train, y_train = loader2015.load(1, 4)\n",
    "X_test, y_test = loader2015.load(31, 44)\n",
    "\n",
    "y_train[y_train == -1] = 0\n",
    "y_test[y_test == -1] = 0\n",
    "print(np.unique(y_train, return_counts=True))\n",
    "\n",
    "# pre-processing, inplace\n",
    "def preprocess(x):\n",
    "    for i in range(x.shape[0]):\n",
    "        # correct DC offset of signal\n",
    "        x[i] = x[i] - np.mean(x[i], axis=1).reshape(-1, 1)\n",
    "        \n",
    "        sd_every_chan = np.std(x[i], axis=1).reshape(-1, 1)\n",
    "        x[i] = x[i] / sd_every_chan\n",
    "\n",
    "preprocess(X_train)\n",
    "preprocess(X_test)\n",
    "\n",
    "num_points = 128; # we will divide our window into num_points means\n",
    "# Define a simple windowed means function\n",
    "def wm(x, start, end, num_points):\n",
    "    num_trials = x.shape[0] # assumes first dem is numb observations\n",
    "    num_chans = x.shape[1] # assumes last dim is num channels\n",
    "    len_time = x.shape[2] # assumes second dim is time\n",
    "    w = np.round((end-start)/num_points)\n",
    "    y = np.zeros((num_trials, num_chans, num_points))\n",
    "    for i in range(0, num_points):\n",
    "        s = (start + (w * i))\n",
    "        e = (s + w)\n",
    "        if e > len_time:\n",
    "            e = len_time\n",
    "        y[:,:,i] = np.mean(x[:,:,s.astype(int):e.astype(int)], axis=2)\n",
    "    return y\n",
    "\n",
    "X_train = wm(X_train, erp_s, erp_e, num_points).astype(np.float32)\n",
    "X_test = wm(X_test, erp_s, erp_e, num_points).astype(np.float32)\n",
    "\n",
    "# transpose each epoch to (1, 128, 32)\n",
    "tmp_x = []\n",
    "for i in range(X_train.shape[0]):\n",
    "    tmp_x.append(np.transpose(X_train[i]))\n",
    "X_train = np.array(tmp_x)\n",
    "tmp_x = []\n",
    "for i in range(X_test.shape[0]):\n",
    "    tmp_x.append(np.transpose(X_test[i]))\n",
    "X_test = np.array(tmp_x)\n",
    "del tmp_x\n",
    "\n",
    "trainset = torch.utils.data.TensorDataset(torch.from_numpy(X_train), torch.from_numpy(y_train))\n",
    "testset = torch.utils.data.TensorDataset(torch.from_numpy(X_test), torch.from_numpy(y_test))\n",
    "trainloader = DataLoader(trainset, batch_size=512, shuffle=True)\n",
    "testloader = DataLoader(testset, batch_size=256, shuffle=False)"
   ]
  },
  {
   "cell_type": "code",
   "execution_count": 174,
   "metadata": {},
   "outputs": [
    {
     "name": "stdout",
     "output_type": "stream",
     "text": [
      "Total epochs: 106\n",
      "[epoch: 19, i:    14] avg mini-batch loss: 0.003 avg mini-batch acc: 0.968\n",
      "[epoch: 39, i:    14] avg mini-batch loss: 0.002 avg mini-batch acc: 0.983\n",
      "[epoch: 59, i:    14] avg mini-batch loss: 0.002 avg mini-batch acc: 0.991\n",
      "[epoch: 79, i:    14] avg mini-batch loss: 0.002 avg mini-batch acc: 0.985\n",
      "[epoch: 99, i:    14] avg mini-batch loss: 0.001 avg mini-batch acc: 0.980\n",
      "Finished Training.\n"
     ]
    }
   ],
   "source": [
    "avg_losses = []   # Avg. losses.\n",
    "epochs = min(180, int(800000/trainloader.dataset.tensors[0].shape[0]))       # Total epochs.\n",
    "print('Total epochs: {}'.format(epochs))\n",
    "print_freq = 300  # Print frequency.\n",
    "\n",
    "iter_count = 0\n",
    "\n",
    "net.train()\n",
    "for epoch in range(epochs):  # Loop over the dataset multiple times.\n",
    "    running_loss = 0.0       # Initialize running loss.\n",
    "    for i, data in enumerate(trainloader, 0):\n",
    "        # Get the inputs.\n",
    "        inputs, labels = data\n",
    "        \n",
    "        # Move the inputs to the specified device.\n",
    "        inputs, labels = inputs.to(device), labels.to(device)\n",
    "        \n",
    "        # Zero the parameter gradients.\n",
    "        opt.zero_grad()\n",
    "\n",
    "        # Forward step.\n",
    "        #with autocast():\n",
    "        outputs = net(inputs)\n",
    "        labels = labels.reshape(-1,).long()\n",
    "        l = labels.cpu().numpy()\n",
    "        # print(np.unique(l, return_counts=True))\n",
    "        # print(outputs.shape, labels.shape)\n",
    "        loss = loss_func(outputs, labels)\n",
    "        \n",
    "        # Backward step.\n",
    "        loss.backward()\n",
    "        \n",
    "        # Optimization step (update the parameters).\n",
    "        opt.step()\n",
    "\n",
    "        # Print statistics.\n",
    "        running_loss += loss.item()\n",
    "        if iter_count % print_freq == print_freq - 1: # Print every several mini-batches.\n",
    "            avg_loss = running_loss / print_freq\n",
    "            avg_acc = (outputs.argmax(dim=1) == labels).float().mean()\n",
    "            \n",
    "            print('[epoch: {}, i: {:5d}] avg mini-batch loss: {:.3f} avg mini-batch acc: {:.3f}'.format(\n",
    "                epoch, i, avg_loss, avg_acc))\n",
    "            avg_losses.append(avg_loss)\n",
    "            running_loss = 0.0\n",
    "            \n",
    "        iter_count += 1\n",
    "\n",
    "print('Finished Training.')"
   ]
  },
  {
   "cell_type": "code",
   "execution_count": 175,
   "metadata": {},
   "outputs": [
    {
     "data": {
      "image/png": "[encoded data removed]",
      "text/plain": [
       "<Figure size 640x480 with 1 Axes>"
      ]
     },
     "metadata": {},
     "output_type": "display_data"
    }
   ],
   "source": [
    "plt.plot(avg_losses)\n",
    "plt.xlabel('mini-batch index / {}'.format(print_freq))\n",
    "plt.ylabel('avg. mini-batch loss')\n",
    "plt.show()"
   ]
  },
  {
   "cell_type": "code",
   "execution_count": 176,
   "metadata": {},
   "outputs": [
    {
     "name": "stdout",
     "output_type": "stream",
     "text": [
      "(array([0, 1]), array([429,  83]))\n",
      "Accuracy on the training set: 97 %\n"
     ]
    }
   ],
   "source": [
    "# Get test accuracy.\n",
    "correct = 0\n",
    "total = 0\n",
    "net.eval()\n",
    "y_pred = np.array([])\n",
    "y_gt = np.array([])\n",
    "with torch.no_grad():\n",
    "    for data in trainloader:\n",
    "        x, y = data\n",
    "        x, y = x.to(device), y.to(device)\n",
    "        outputs = net(x)\n",
    "        _, predicted = torch.max(outputs.data, 1)\n",
    "        if correct % 5 == 1:\n",
    "            print(np.unique(predicted.cpu().numpy(), return_counts=True))\n",
    "        total += y.size(0)\n",
    "        correct += (predicted == y).sum().item()\n",
    "        y_pred = np.append(y_pred, predicted.cpu().numpy())\n",
    "        y_gt = np.append(y_gt, y.cpu().numpy())\n",
    "\n",
    "print('Accuracy on the training set: %d %%' % (\n",
    "    100 * correct / total))\n"
   ]
  },
  {
   "cell_type": "code",
   "execution_count": 177,
   "metadata": {},
   "outputs": [
    {
     "name": "stdout",
     "output_type": "stream",
     "text": [
      "(array([0., 1.]), array([6046, 1466]))\n",
      "(array([0., 1.]), array([6261, 1251]))\n",
      "0.9516994362033342\n",
      "              precision    recall  f1-score   support\n",
      "\n",
      "         0.0       1.00      0.97      0.98      6261\n",
      "         1.0       0.85      1.00      0.92      1251\n",
      "\n",
      "    accuracy                           0.97      7512\n",
      "   macro avg       0.93      0.98      0.95      7512\n",
      "weighted avg       0.98      0.97      0.97      7512\n",
      "\n",
      "tn, fp, fn, tp [6046  215    0 1251]\n"
     ]
    }
   ],
   "source": [
    "print(np.unique(y_pred, return_counts=True))\n",
    "print(np.unique(y_gt, return_counts=True))\n",
    "print(f1_score(y_gt, y_pred, average='macro'))\n",
    "print(classification_report(y_gt, y_pred))\n",
    "print(\"tn, fp, fn, tp\", confusion_matrix(y_gt, y_pred).ravel())"
   ]
  },
  {
   "cell_type": "code",
   "execution_count": 178,
   "metadata": {},
   "outputs": [
    {
     "name": "stdout",
     "output_type": "stream",
     "text": [
      "(array([0, 1]), array([166,  90]))\n",
      "(array([0, 1]), array([180,  76]))\n",
      "(array([0, 1]), array([181,  75]))\n",
      "(array([0, 1]), array([161,  95]))\n",
      "(array([0, 1]), array([179,  77]))\n",
      "(array([0, 1]), array([179,  77]))\n",
      "(array([0, 1]), array([180,  76]))\n",
      "(array([0, 1]), array([177,  79]))\n",
      "(array([0, 1]), array([189,  67]))\n",
      "(array([0, 1]), array([172,  84]))\n",
      "(array([0, 1]), array([178,  78]))\n",
      "(array([0, 1]), array([176,  80]))\n",
      "(array([0, 1]), array([168,  88]))\n",
      "(array([0, 1]), array([171,  85]))\n",
      "(array([0, 1]), array([176,  80]))\n",
      "(array([0, 1]), array([169,  87]))\n",
      "(array([0, 1]), array([165,  91]))\n",
      "(array([0, 1]), array([180,  76]))\n",
      "Accuracy on the testset: 71 %\n"
     ]
    }
   ],
   "source": [
    "# Get test accuracy.\n",
    "correct = 0\n",
    "total = 0\n",
    "net.eval()\n",
    "y_pred = np.array([])\n",
    "y_gt = np.array([])\n",
    "with torch.no_grad():\n",
    "    for data in testloader:\n",
    "        x, y = data\n",
    "        x, y = x.to(device), y.to(device)\n",
    "        outputs = net(x)\n",
    "        _, predicted = torch.max(outputs.data, 1)\n",
    "        if correct % 5 == 1:\n",
    "            print(np.unique(predicted.cpu().numpy(), return_counts=True))\n",
    "        total += y.size(0)\n",
    "        correct += (predicted == y).sum().item()\n",
    "        y_pred = np.append(y_pred, predicted.cpu().numpy())\n",
    "        y_gt = np.append(y_gt, y.cpu().numpy())\n",
    "\n",
    "print('Accuracy on the testset: %d %%' % (\n",
    "    100 * correct / total))\n"
   ]
  },
  {
   "cell_type": "code",
   "execution_count": 179,
   "metadata": {},
   "outputs": [
    {
     "name": "stdout",
     "output_type": "stream",
     "text": [
      "(array([0., 1.]), array([15911,  6877]))\n",
      "(array([0., 1.]), array([18990,  3798]))\n",
      "0.6009006942152264\n",
      "              precision    recall  f1-score   support\n",
      "\n",
      "         0.0       0.89      0.75      0.81     18990\n",
      "         1.0       0.30      0.55      0.39      3798\n",
      "\n",
      "    accuracy                           0.71     22788\n",
      "   macro avg       0.60      0.65      0.60     22788\n",
      "weighted avg       0.79      0.71      0.74     22788\n",
      "\n",
      "tn, fp, fn, tp [14188  4802  1723  2075]\n"
     ]
    }
   ],
   "source": [
    "print(np.unique(y_pred, return_counts=True))\n",
    "print(np.unique(y_gt, return_counts=True))\n",
    "print(f1_score(y_gt, y_pred, average='macro'))\n",
    "print(classification_report(y_gt, y_pred))\n",
    "print(\"tn, fp, fn, tp\", confusion_matrix(y_gt, y_pred).ravel())"
   ]
  }
 ],
 "metadata": {
  "kernelspec": {
   "display_name": "base",
   "language": "python",
   "name": "python3"
  },
  "language_info": {
   "codemirror_mode": {
    "name": "ipython",
    "version": 3
   },
   "file_extension": ".py",
   "mimetype": "text/x-python",
   "name": "python",
   "nbconvert_exporter": "python",
   "pygments_lexer": "ipython3",
   "version": "3.10.8"
  },
  "orig_nbformat": 4
 },
 "nbformat": 4,
 "nbformat_minor": 2
}
