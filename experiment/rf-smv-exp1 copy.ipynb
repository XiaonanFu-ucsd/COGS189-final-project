{
 "cells": [
  {
   "cell_type": "code",
   "execution_count": 12,
   "metadata": {},
   "outputs": [],
   "source": [
    "import numpy as np                                      \n",
    "# import matplotlib.pyplot as plt                         \n",
    "# import matplotlib.patches as patches\n",
    "# import seaborn as sns\n",
    "# import scipy.signal as signal \n",
    "# from scipy.io import loadmat\n",
    "from sklearn.discriminant_analysis import LinearDiscriminantAnalysis\n",
    "from sklearn.model_selection import cross_val_score\n",
    "from sklearn.metrics import roc_curve, auc\n",
    "from sklearn.model_selection import StratifiedKFold\n",
    "from sklearn.ensemble import RandomForestClassifier\n",
    "import loader_2015_epoch as loader2015\n",
    "from sklearn.model_selection import train_test_split\n",
    "from sklearn.metrics import confusion_matrix\n",
    "from sklearn.model_selection import GridSearchCV\n",
    "from sklearn.svm import SVC\n",
    "import sklearn.ensemble as ensemble"
   ]
  },
  {
   "cell_type": "code",
   "execution_count": 13,
   "metadata": {},
   "outputs": [
    {
     "data": {
      "text/plain": [
       "((6468, 32, 410), (6468,), (6660, 32, 410), (6660,))"
      ]
     },
     "execution_count": 13,
     "metadata": {},
     "output_type": "execute_result"
    }
   ],
   "source": [
    "X_train, y_train = loader2015.load(1, 3)\n",
    "X_test, y_test = loader2015.load(40, 44)\n",
    "X_train.shape, y_train.shape, X_test.shape, y_test.shape"
   ]
  },
  {
   "cell_type": "code",
   "execution_count": 14,
   "metadata": {},
   "outputs": [],
   "source": [
    "# Define our filter variables\n",
    "fs = 512                      # Hz; sampling rate\n",
    "dt = 1000. / fs                 # ms; time between samples\n",
    "sdt = dt#np.round(dt).astype(int); # rounded dt so that we can index samples\n",
    "hp = 1                        # Hz; our low cut for our bandpass\n",
    "lp = 24.                        # Hz; our high cut for our bandpass\n",
    "num_taps = 31                   # Number of taps/coefficients of FIR filter\n",
    "\n",
    "# Create our filter coefficients\n",
    "# Note: by defining 'fs' we don't divide our windows by the Nyquist\n",
    "# Note: for FIR filters, a is always 1\n",
    "# b = signal.firwin(numtaps=num_taps, cutoff=[hp, lp], pass_zero='bandpass', fs=fs)\n",
    "# a = 1\n",
    "\n",
    "# Define ERP-related variables\n",
    "epoch_start = 0    # ms\n",
    "epoch_end = 800    # ms\n",
    "baseline_start = 0 # ms\n",
    "baseline_end = 100 # ms\n",
    "erp_start = 200    # ms\n",
    "erp_end = 800      # ms\n",
    "\n",
    "# Let's translate these from time into index space to save time later\n",
    "e_s = np.round(epoch_start / sdt).astype(int)     # epoch start\n",
    "e_e = np.round(epoch_end / sdt).astype(int)       # epoch end\n",
    "bl_s = np.round(baseline_start / sdt).astype(int) # baseline start\n",
    "bl_e = np.round(baseline_end / sdt).astype(int)   # baseline end\n",
    "erp_s = np.round(erp_start / sdt).astype(int)     # ERP component window start\n",
    "erp_e = np.round(erp_end / sdt).astype(int)       # ERP component window end"
   ]
  },
  {
   "cell_type": "code",
   "execution_count": 15,
   "metadata": {},
   "outputs": [],
   "source": [
    "# pre-processing, inplace\n",
    "def preprocess(x):\n",
    "    for i in range(x.shape[0]):\n",
    "        # correct DC offset of signal\n",
    "        x[i] = x[i] - np.mean(x[i], axis=1).reshape(-1, 1)\n",
    "        \n",
    "        sd_every_chan = np.std(x[i], axis=1).reshape(-1, 1)\n",
    "        x[i] = x[i] / sd_every_chan\n",
    "        \n",
    "        # bandpass filter\n",
    "        #x[i] = signal.filtfilt(b, a, x[i], axis=1)\n",
    "        # baseline correction\n",
    "        #x[i] = x[i] - np.mean(x[i][bl_s:bl_e], axis=0)\n",
    "\n",
    "preprocess(X_train)\n",
    "preprocess(X_test)"
   ]
  },
  {
   "cell_type": "code",
   "execution_count": 16,
   "metadata": {},
   "outputs": [],
   "source": [
    "# downsample\n",
    "\n",
    "num_points = 6; # we will divide our window into num_points means\n",
    "# Define a simple windowed means function\n",
    "def wm(x, start, end, num_points):\n",
    "    num_trials = x.shape[0] # assumes first dem is numb observations\n",
    "    num_chans = x.shape[1] # assumes last dim is num channels\n",
    "    len_time = x.shape[2] # assumes second dim is time\n",
    "    w = np.round((end-start)/num_points).astype(int)\n",
    "    y = np.zeros((num_trials, num_chans, num_points))\n",
    "    for i in range(0, num_points):\n",
    "        s = start + (w * i)\n",
    "        e = s + w\n",
    "        if e > len_time:\n",
    "            e = len_time\n",
    "        y[:,:,i] = np.mean(x[:,:,s:e], axis=2)\n",
    "    return y\n",
    "\n",
    "X_train = wm(X_train, erp_s, erp_e, num_points)\n",
    "X_test = wm(X_test, erp_s, erp_e, num_points)"
   ]
  },
  {
   "cell_type": "code",
   "execution_count": 17,
   "metadata": {},
   "outputs": [
    {
     "name": "stdout",
     "output_type": "stream",
     "text": [
      "X_train shape is now: (6468, 192)\n",
      "X_test  shape is now: (6660, 192)\n"
     ]
    }
   ],
   "source": [
    "# Since our X is 3D, we must flatten our data. We will then transpose it for sklearn\n",
    "X_train = X_train.reshape(X_train.shape[0], -1)\n",
    "X_test = X_test.reshape(X_test.shape[0], -1)\n",
    "\n",
    "# Let's print out the new shape\n",
    "print('X_train shape is now: ' + str(X_train.shape))\n",
    "print('X_test  shape is now: ' + str(X_test.shape))"
   ]
  },
  {
   "cell_type": "code",
   "execution_count": 107,
   "metadata": {},
   "outputs": [
    {
     "name": "stderr",
     "output_type": "stream",
     "text": [
      "/opt/conda/lib/python3.10/site-packages/sklearn/svm/_base.py:299: ConvergenceWarning: Solver terminated early (max_iter=1000).  Consider pre-processing your data with StandardScaler or MinMaxScaler.\n",
      "  warnings.warn(\n",
      "/opt/conda/lib/python3.10/site-packages/sklearn/svm/_base.py:299: ConvergenceWarning: Solver terminated early (max_iter=1000).  Consider pre-processing your data with StandardScaler or MinMaxScaler.\n",
      "  warnings.warn(\n",
      "/opt/conda/lib/python3.10/site-packages/sklearn/svm/_base.py:299: ConvergenceWarning: Solver terminated early (max_iter=1000).  Consider pre-processing your data with StandardScaler or MinMaxScaler.\n",
      "  warnings.warn(\n"
     ]
    },
    {
     "data": {
      "text/html": [
       "<style>#sk-container-id-19 {color: black;background-color: white;}#sk-container-id-19 pre{padding: 0;}#sk-container-id-19 div.sk-toggleable {background-color: white;}#sk-container-id-19 label.sk-toggleable__label {cursor: pointer;display: block;width: 100%;margin-bottom: 0;padding: 0.3em;box-sizing: border-box;text-align: center;}#sk-container-id-19 label.sk-toggleable__label-arrow:before {content: \"▸\";float: left;margin-right: 0.25em;color: #696969;}#sk-container-id-19 label.sk-toggleable__label-arrow:hover:before {color: black;}#sk-container-id-19 div.sk-estimator:hover label.sk-toggleable__label-arrow:before {color: black;}#sk-container-id-19 div.sk-toggleable__content {max-height: 0;max-width: 0;overflow: hidden;text-align: left;background-color: #f0f8ff;}#sk-container-id-19 div.sk-toggleable__content pre {margin: 0.2em;color: black;border-radius: 0.25em;background-color: #f0f8ff;}#sk-container-id-19 input.sk-toggleable__control:checked~div.sk-toggleable__content {max-height: 200px;max-width: 100%;overflow: auto;}#sk-container-id-19 input.sk-toggleable__control:checked~label.sk-toggleable__label-arrow:before {content: \"▾\";}#sk-container-id-19 div.sk-estimator input.sk-toggleable__control:checked~label.sk-toggleable__label {background-color: #d4ebff;}#sk-container-id-19 div.sk-label input.sk-toggleable__control:checked~label.sk-toggleable__label {background-color: #d4ebff;}#sk-container-id-19 input.sk-hidden--visually {border: 0;clip: rect(1px 1px 1px 1px);clip: rect(1px, 1px, 1px, 1px);height: 1px;margin: -1px;overflow: hidden;padding: 0;position: absolute;width: 1px;}#sk-container-id-19 div.sk-estimator {font-family: monospace;background-color: #f0f8ff;border: 1px dotted black;border-radius: 0.25em;box-sizing: border-box;margin-bottom: 0.5em;}#sk-container-id-19 div.sk-estimator:hover {background-color: #d4ebff;}#sk-container-id-19 div.sk-parallel-item::after {content: \"\";width: 100%;border-bottom: 1px solid gray;flex-grow: 1;}#sk-container-id-19 div.sk-label:hover label.sk-toggleable__label {background-color: #d4ebff;}#sk-container-id-19 div.sk-serial::before {content: \"\";position: absolute;border-left: 1px solid gray;box-sizing: border-box;top: 0;bottom: 0;left: 50%;z-index: 0;}#sk-container-id-19 div.sk-serial {display: flex;flex-direction: column;align-items: center;background-color: white;padding-right: 0.2em;padding-left: 0.2em;position: relative;}#sk-container-id-19 div.sk-item {position: relative;z-index: 1;}#sk-container-id-19 div.sk-parallel {display: flex;align-items: stretch;justify-content: center;background-color: white;position: relative;}#sk-container-id-19 div.sk-item::before, #sk-container-id-19 div.sk-parallel-item::before {content: \"\";position: absolute;border-left: 1px solid gray;box-sizing: border-box;top: 0;bottom: 0;left: 50%;z-index: -1;}#sk-container-id-19 div.sk-parallel-item {display: flex;flex-direction: column;z-index: 1;position: relative;background-color: white;}#sk-container-id-19 div.sk-parallel-item:first-child::after {align-self: flex-end;width: 50%;}#sk-container-id-19 div.sk-parallel-item:last-child::after {align-self: flex-start;width: 50%;}#sk-container-id-19 div.sk-parallel-item:only-child::after {width: 0;}#sk-container-id-19 div.sk-dashed-wrapped {border: 1px dashed gray;margin: 0 0.4em 0.5em 0.4em;box-sizing: border-box;padding-bottom: 0.4em;background-color: white;}#sk-container-id-19 div.sk-label label {font-family: monospace;font-weight: bold;display: inline-block;line-height: 1.2em;}#sk-container-id-19 div.sk-label-container {text-align: center;}#sk-container-id-19 div.sk-container {/* jupyter's `normalize.less` sets `[hidden] { display: none; }` but bootstrap.min.css set `[hidden] { display: none !important; }` so we also need the `!important` here to be able to override the default hidden behavior on the sphinx rendered scikit-learn.org. See: https://github.com/scikit-learn/scikit-learn/issues/21755 */display: inline-block !important;position: relative;}#sk-container-id-19 div.sk-text-repr-fallback {display: none;}</style><div id=\"sk-container-id-19\" class=\"sk-top-container\"><div class=\"sk-text-repr-fallback\"><pre>VotingClassifier(estimators=[(&#x27;svc1&#x27;,\n",
       "                              SVC(C=1, class_weight=&#x27;balanced&#x27;, kernel=&#x27;linear&#x27;,\n",
       "                                  max_iter=1000, probability=True)),\n",
       "                             (&#x27;svc2&#x27;,\n",
       "                              SVC(C=1, class_weight=&#x27;balanced&#x27;, kernel=&#x27;linear&#x27;,\n",
       "                                  max_iter=1000, probability=True)),\n",
       "                             (&#x27;svc&#x27;,\n",
       "                              SVC(C=1, class_weight=&#x27;balanced&#x27;, kernel=&#x27;poly&#x27;,\n",
       "                                  max_iter=1000, probability=True)),\n",
       "                             (&#x27;rf1&#x27;,\n",
       "                              RandomForestClassifier(class_weight=&#x27;balanced&#x27;,\n",
       "                                                     max_features=None,\n",
       "                                                     n_estimators=64,\n",
       "                                                     n_jobs=-1))],\n",
       "                 n_jobs=-1)</pre><b>In a Jupyter environment, please rerun this cell to show the HTML representation or trust the notebook. <br />On GitHub, the HTML representation is unable to render, please try loading this page with nbviewer.org.</b></div><div class=\"sk-container\" hidden><div class=\"sk-item sk-dashed-wrapped\"><div class=\"sk-label-container\"><div class=\"sk-label sk-toggleable\"><input class=\"sk-toggleable__control sk-hidden--visually\" id=\"sk-estimator-id-54\" type=\"checkbox\" ><label for=\"sk-estimator-id-54\" class=\"sk-toggleable__label sk-toggleable__label-arrow\">VotingClassifier</label><div class=\"sk-toggleable__content\"><pre>VotingClassifier(estimators=[(&#x27;svc1&#x27;,\n",
       "                              SVC(C=1, class_weight=&#x27;balanced&#x27;, kernel=&#x27;linear&#x27;,\n",
       "                                  max_iter=1000, probability=True)),\n",
       "                             (&#x27;svc2&#x27;,\n",
       "                              SVC(C=1, class_weight=&#x27;balanced&#x27;, kernel=&#x27;linear&#x27;,\n",
       "                                  max_iter=1000, probability=True)),\n",
       "                             (&#x27;svc&#x27;,\n",
       "                              SVC(C=1, class_weight=&#x27;balanced&#x27;, kernel=&#x27;poly&#x27;,\n",
       "                                  max_iter=1000, probability=True)),\n",
       "                             (&#x27;rf1&#x27;,\n",
       "                              RandomForestClassifier(class_weight=&#x27;balanced&#x27;,\n",
       "                                                     max_features=None,\n",
       "                                                     n_estimators=64,\n",
       "                                                     n_jobs=-1))],\n",
       "                 n_jobs=-1)</pre></div></div></div><div class=\"sk-parallel\"><div class=\"sk-parallel-item\"><div class=\"sk-item\"><div class=\"sk-label-container\"><div class=\"sk-label sk-toggleable\"><label>svc1</label></div></div><div class=\"sk-serial\"><div class=\"sk-item\"><div class=\"sk-estimator sk-toggleable\"><input class=\"sk-toggleable__control sk-hidden--visually\" id=\"sk-estimator-id-55\" type=\"checkbox\" ><label for=\"sk-estimator-id-55\" class=\"sk-toggleable__label sk-toggleable__label-arrow\">SVC</label><div class=\"sk-toggleable__content\"><pre>SVC(C=1, class_weight=&#x27;balanced&#x27;, kernel=&#x27;linear&#x27;, max_iter=1000,\n",
       "    probability=True)</pre></div></div></div></div></div></div><div class=\"sk-parallel-item\"><div class=\"sk-item\"><div class=\"sk-label-container\"><div class=\"sk-label sk-toggleable\"><label>svc2</label></div></div><div class=\"sk-serial\"><div class=\"sk-item\"><div class=\"sk-estimator sk-toggleable\"><input class=\"sk-toggleable__control sk-hidden--visually\" id=\"sk-estimator-id-56\" type=\"checkbox\" ><label for=\"sk-estimator-id-56\" class=\"sk-toggleable__label sk-toggleable__label-arrow\">SVC</label><div class=\"sk-toggleable__content\"><pre>SVC(C=1, class_weight=&#x27;balanced&#x27;, kernel=&#x27;linear&#x27;, max_iter=1000,\n",
       "    probability=True)</pre></div></div></div></div></div></div><div class=\"sk-parallel-item\"><div class=\"sk-item\"><div class=\"sk-label-container\"><div class=\"sk-label sk-toggleable\"><label>svc</label></div></div><div class=\"sk-serial\"><div class=\"sk-item\"><div class=\"sk-estimator sk-toggleable\"><input class=\"sk-toggleable__control sk-hidden--visually\" id=\"sk-estimator-id-57\" type=\"checkbox\" ><label for=\"sk-estimator-id-57\" class=\"sk-toggleable__label sk-toggleable__label-arrow\">SVC</label><div class=\"sk-toggleable__content\"><pre>SVC(C=1, class_weight=&#x27;balanced&#x27;, kernel=&#x27;poly&#x27;, max_iter=1000,\n",
       "    probability=True)</pre></div></div></div></div></div></div><div class=\"sk-parallel-item\"><div class=\"sk-item\"><div class=\"sk-label-container\"><div class=\"sk-label sk-toggleable\"><label>rf1</label></div></div><div class=\"sk-serial\"><div class=\"sk-item\"><div class=\"sk-estimator sk-toggleable\"><input class=\"sk-toggleable__control sk-hidden--visually\" id=\"sk-estimator-id-58\" type=\"checkbox\" ><label for=\"sk-estimator-id-58\" class=\"sk-toggleable__label sk-toggleable__label-arrow\">RandomForestClassifier</label><div class=\"sk-toggleable__content\"><pre>RandomForestClassifier(class_weight=&#x27;balanced&#x27;, max_features=None,\n",
       "                       n_estimators=64, n_jobs=-1)</pre></div></div></div></div></div></div></div></div></div></div>"
      ],
      "text/plain": [
       "VotingClassifier(estimators=[('svc1',\n",
       "                              SVC(C=1, class_weight='balanced', kernel='linear',\n",
       "                                  max_iter=1000, probability=True)),\n",
       "                             ('svc2',\n",
       "                              SVC(C=1, class_weight='balanced', kernel='linear',\n",
       "                                  max_iter=1000, probability=True)),\n",
       "                             ('svc',\n",
       "                              SVC(C=1, class_weight='balanced', kernel='poly',\n",
       "                                  max_iter=1000, probability=True)),\n",
       "                             ('rf1',\n",
       "                              RandomForestClassifier(class_weight='balanced',\n",
       "                                                     max_features=None,\n",
       "                                                     n_estimators=64,\n",
       "                                                     n_jobs=-1))],\n",
       "                 n_jobs=-1)"
      ]
     },
     "execution_count": 107,
     "metadata": {},
     "output_type": "execute_result"
    }
   ],
   "source": [
    "#np.nan_to_num(X_train, copy=False)\n",
    "from sklearn.model_selection import train_test_split\n",
    "\n",
    "# split the data into training and testing\n",
    "X_tr, X_te, y_tr, y_te = train_test_split(X_train, y_train, test_size=0.2, random_state=42)\n",
    "\n",
    "# clf = RandomForestClassifier(n_jobs=-1, class_weight='balanced')\n",
    "\n",
    "# params = {\n",
    "#     'n_estimators': [16, 64, 128, 256],\n",
    "#     'max_features': ['sqrt', 'log2', None],\n",
    "#     'max_depth' : [4, 20, 100, None]\n",
    "# }\n",
    "# gscv = GridSearchCV(clf, params, cv=5, n_jobs=-1, verbose=1)\n",
    "# gscv.fit(X_tr, y_tr)\n",
    "\n",
    "# print(\"best params: \", gscv.best_params_)\n",
    "# print(\"best score: \", gscv.best_score_)\n",
    "\n",
    "svc1 = SVC(kernel='linear', C=1, class_weight='balanced', probability = True, max_iter=1000)\n",
    "svc2 = SVC(kernel='linear', C=1, class_weight='balanced', probability = True, max_iter=1000)\n",
    "svc3 = SVC(kernel='poly', C=1, class_weight='balanced', probability = True, max_iter=1000)\n",
    "rf1 = RandomForestClassifier(n_estimators=64, max_features=None, class_weight='balanced', n_jobs=-1)\n",
    "\n",
    "clf = ensemble.VotingClassifier(estimators=[('svc1', svc1), \n",
    "                                            ('svc2', svc2),\n",
    "                                            ('svc', svc3), \n",
    "                                            ('rf1', rf1)], voting='hard', n_jobs=-1,\n",
    "                                )\n",
    "clf.fit(X_tr, y_tr)"
   ]
  },
  {
   "cell_type": "code",
   "execution_count": 108,
   "metadata": {},
   "outputs": [
    {
     "data": {
      "text/plain": [
       "0.7179289026275116"
      ]
     },
     "execution_count": 108,
     "metadata": {},
     "output_type": "execute_result"
    }
   ],
   "source": [
    "clf.score(X_te, y_te)"
   ]
  },
  {
   "cell_type": "code",
   "execution_count": 109,
   "metadata": {},
   "outputs": [
    {
     "name": "stdout",
     "output_type": "stream",
     "text": [
      "[[3296 1015]\n",
      " [ 448  415]]\n",
      "(array([-1.,  1.]), array([4311,  863]))\n",
      "(array([-1.,  1.]), array([3744, 1430]))\n",
      "tn, fp, fn, tp [3296 1015  448  415]\n",
      "accuracy for training:  0.717240046385775\n"
     ]
    }
   ],
   "source": [
    "y_train_pred = clf.predict(X_tr)\n",
    "print(confusion_matrix(y_tr, y_train_pred))\n",
    "print(np.unique(y_tr, return_counts=True))\n",
    "print(np.unique(y_train_pred, return_counts=True))\n",
    "print(\"tn, fp, fn, tp\", confusion_matrix(y_tr, y_train_pred).ravel())\n",
    "correct_count = 0\n",
    "for gt, p in zip(y_tr, y_train_pred):\n",
    "    if gt == p:\n",
    "        correct_count += 1\n",
    "print(\"accuracy for training: \", correct_count / len(y_tr))"
   ]
  },
  {
   "cell_type": "code",
   "execution_count": 110,
   "metadata": {},
   "outputs": [
    {
     "name": "stdout",
     "output_type": "stream",
     "text": [
      "[[819 261]\n",
      " [104 110]]\n",
      "(array([-1.,  1.]), array([1080,  214]))\n",
      "(array([-1.,  1.]), array([923, 371]))\n",
      "tn, fp, fn, tp [819 261 104 110]\n",
      "accuracy for training_test:  0.7179289026275116\n"
     ]
    }
   ],
   "source": [
    "from sklearn.metrics import confusion_matrix\n",
    "y_train_pred = clf.predict(X_te)\n",
    "print(confusion_matrix(y_te, y_train_pred))\n",
    "print(np.unique(y_te, return_counts=True))\n",
    "print(np.unique(y_train_pred, return_counts=True))\n",
    "print(\"tn, fp, fn, tp\", confusion_matrix(y_te, y_train_pred).ravel())\n",
    "correct_count = 0\n",
    "for gt, p in zip(y_te, y_train_pred):\n",
    "    if gt == p:\n",
    "        correct_count += 1\n",
    "print(\"accuracy for training_test: \", correct_count / len(y_te))"
   ]
  },
  {
   "cell_type": "code",
   "execution_count": 111,
   "metadata": {},
   "outputs": [
    {
     "name": "stdout",
     "output_type": "stream",
     "text": [
      "tn, fp, fn, tp [4141 1409  643  467]\n",
      "0.6918918918918919\n",
      "(array([-1.,  1.]), array([5550, 1110]))\n",
      "(array([-1.,  1.]), array([4784, 1876]))\n",
      "accuracy for testing:  0.6918918918918919\n"
     ]
    }
   ],
   "source": [
    "np.nan_to_num(X_test, copy=False)\n",
    "\n",
    "y_pred = clf.predict(X_test)\n",
    "print(\"tn, fp, fn, tp\", confusion_matrix(y_test, y_pred).ravel())\n",
    "print(clf.score(X_test, y_test))\n",
    "print(np.unique(y_test, return_counts=True))\n",
    "print(np.unique(y_pred, return_counts=True))\n",
    "correct_count = 0\n",
    "for gt, p in zip(y_test, y_pred):\n",
    "    if gt == p:\n",
    "        correct_count += 1\n",
    "print(\"accuracy for testing: \", correct_count / len(y_test))"
   ]
  }
 ],
 "metadata": {
  "kernelspec": {
   "display_name": "base",
   "language": "python",
   "name": "python3"
  },
  "language_info": {
   "codemirror_mode": {
    "name": "ipython",
    "version": 3
   },
   "file_extension": ".py",
   "mimetype": "text/x-python",
   "name": "python",
   "nbconvert_exporter": "python",
   "pygments_lexer": "ipython3",
   "version": "3.10.8"
  },
  "orig_nbformat": 4
 },
 "nbformat": 4,
 "nbformat_minor": 2
}
