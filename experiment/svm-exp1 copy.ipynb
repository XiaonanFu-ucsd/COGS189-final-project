{
 "cells": [
  {
   "cell_type": "code",
   "execution_count": 1,
   "metadata": {},
   "outputs": [],
   "source": [
    "import numpy as np                                      \n",
    "# import matplotlib.pyplot as plt                         \n",
    "# import matplotlib.patches as patches\n",
    "# import seaborn as sns\n",
    "# import scipy.signal as signal \n",
    "# from scipy.io import loadmat\n",
    "from sklearn.discriminant_analysis import LinearDiscriminantAnalysis\n",
    "from sklearn.model_selection import cross_val_score\n",
    "from sklearn.metrics import roc_curve, auc\n",
    "from sklearn.model_selection import StratifiedKFold\n",
    "from sklearn.ensemble import RandomForestClassifier\n",
    "import loader_2015_epoch as loader2015\n",
    "from sklearn.model_selection import train_test_split\n",
    "from sklearn.metrics import confusion_matrix\n",
    "from sklearn.model_selection import GridSearchCV\n",
    "from sklearn.svm import SVC"
   ]
  },
  {
   "cell_type": "code",
   "execution_count": 2,
   "metadata": {},
   "outputs": [
    {
     "data": {
      "text/plain": [
       "((8952, 32, 410), (8952,), (6660, 32, 410), (6660,))"
      ]
     },
     "execution_count": 2,
     "metadata": {},
     "output_type": "execute_result"
    }
   ],
   "source": [
    "X_train, y_train = loader2015.load(1, 5)\n",
    "X_test, y_test = loader2015.load(40, 44)\n",
    "X_train.shape, y_train.shape, X_test.shape, y_test.shape"
   ]
  },
  {
   "cell_type": "code",
   "execution_count": 3,
   "metadata": {},
   "outputs": [],
   "source": [
    "# Define our filter variables\n",
    "fs = 512                      # Hz; sampling rate\n",
    "dt = 1000. / fs                 # ms; time between samples\n",
    "sdt = dt#np.round(dt).astype(int); # rounded dt so that we can index samples\n",
    "hp = 1                        # Hz; our low cut for our bandpass\n",
    "lp = 24.                        # Hz; our high cut for our bandpass\n",
    "num_taps = 31                   # Number of taps/coefficients of FIR filter\n",
    "\n",
    "# Create our filter coefficients\n",
    "# Note: by defining 'fs' we don't divide our windows by the Nyquist\n",
    "# Note: for FIR filters, a is always 1\n",
    "# b = signal.firwin(numtaps=num_taps, cutoff=[hp, lp], pass_zero='bandpass', fs=fs)\n",
    "# a = 1\n",
    "\n",
    "# Define ERP-related variables\n",
    "epoch_start = 0    # ms\n",
    "epoch_end = 800    # ms\n",
    "baseline_start = 0 # ms\n",
    "baseline_end = 100 # ms\n",
    "erp_start = 200    # ms\n",
    "erp_end = 800      # ms\n",
    "\n",
    "# Let's translate these from time into index space to save time later\n",
    "e_s = np.round(epoch_start / sdt).astype(int)     # epoch start\n",
    "e_e = np.round(epoch_end / sdt).astype(int)       # epoch end\n",
    "bl_s = np.round(baseline_start / sdt).astype(int) # baseline start\n",
    "bl_e = np.round(baseline_end / sdt).astype(int)   # baseline end\n",
    "erp_s = np.round(erp_start / sdt).astype(int)     # ERP component window start\n",
    "erp_e = np.round(erp_end / sdt).astype(int)       # ERP component window end"
   ]
  },
  {
   "cell_type": "code",
   "execution_count": 4,
   "metadata": {},
   "outputs": [],
   "source": [
    "# pre-processing, inplace\n",
    "def preprocess(x):\n",
    "    for i in range(x.shape[0]):\n",
    "        # correct DC offset of signal\n",
    "        x[i] = x[i] - np.mean(x[i], axis=1).reshape(-1, 1)\n",
    "        \n",
    "        sd_every_chan = np.std(x[i], axis=1).reshape(-1, 1)\n",
    "        x[i] = x[i] / sd_every_chan\n",
    "        \n",
    "        # bandpass filter\n",
    "        #x[i] = signal.filtfilt(b, a, x[i], axis=1)\n",
    "        # baseline correction\n",
    "        #x[i] = x[i] - np.mean(x[i][bl_s:bl_e], axis=0)\n",
    "\n",
    "preprocess(X_train)\n",
    "preprocess(X_test)"
   ]
  },
  {
   "cell_type": "code",
   "execution_count": 5,
   "metadata": {},
   "outputs": [],
   "source": [
    "# downsample\n",
    "\n",
    "num_points = 6; # we will divide our window into num_points means\n",
    "# Define a simple windowed means function\n",
    "def wm(x, start, end, num_points):\n",
    "    num_trials = x.shape[0] # assumes first dem is numb observations\n",
    "    num_chans = x.shape[1] # assumes last dim is num channels\n",
    "    len_time = x.shape[2] # assumes second dim is time\n",
    "    w = np.round((end-start)/num_points).astype(int)\n",
    "    y = np.zeros((num_trials, num_chans, num_points))\n",
    "    for i in range(0, num_points):\n",
    "        s = start + (w * i)\n",
    "        e = s + w\n",
    "        if e > len_time:\n",
    "            e = len_time\n",
    "        y[:,:,i] = np.mean(x[:,:,s:e], axis=2)\n",
    "    return y\n",
    "\n",
    "X_train = wm(X_train, erp_s, erp_e, num_points)\n",
    "X_test = wm(X_test, erp_s, erp_e, num_points)"
   ]
  },
  {
   "cell_type": "code",
   "execution_count": 6,
   "metadata": {},
   "outputs": [
    {
     "name": "stdout",
     "output_type": "stream",
     "text": [
      "X_train shape is now: (8952, 192)\n",
      "X_test  shape is now: (6660, 192)\n"
     ]
    }
   ],
   "source": [
    "# Since our X is 3D, we must flatten our data. We will then transpose it for sklearn\n",
    "X_train = X_train.reshape(X_train.shape[0], -1)\n",
    "X_test = X_test.reshape(X_test.shape[0], -1)\n",
    "\n",
    "# Let's print out the new shape\n",
    "print('X_train shape is now: ' + str(X_train.shape))\n",
    "print('X_test  shape is now: ' + str(X_test.shape))"
   ]
  },
  {
   "cell_type": "code",
   "execution_count": 7,
   "metadata": {},
   "outputs": [
    {
     "data": {
      "text/html": [
       "<style>#sk-container-id-1 {color: black;background-color: white;}#sk-container-id-1 pre{padding: 0;}#sk-container-id-1 div.sk-toggleable {background-color: white;}#sk-container-id-1 label.sk-toggleable__label {cursor: pointer;display: block;width: 100%;margin-bottom: 0;padding: 0.3em;box-sizing: border-box;text-align: center;}#sk-container-id-1 label.sk-toggleable__label-arrow:before {content: \"▸\";float: left;margin-right: 0.25em;color: #696969;}#sk-container-id-1 label.sk-toggleable__label-arrow:hover:before {color: black;}#sk-container-id-1 div.sk-estimator:hover label.sk-toggleable__label-arrow:before {color: black;}#sk-container-id-1 div.sk-toggleable__content {max-height: 0;max-width: 0;overflow: hidden;text-align: left;background-color: #f0f8ff;}#sk-container-id-1 div.sk-toggleable__content pre {margin: 0.2em;color: black;border-radius: 0.25em;background-color: #f0f8ff;}#sk-container-id-1 input.sk-toggleable__control:checked~div.sk-toggleable__content {max-height: 200px;max-width: 100%;overflow: auto;}#sk-container-id-1 input.sk-toggleable__control:checked~label.sk-toggleable__label-arrow:before {content: \"▾\";}#sk-container-id-1 div.sk-estimator input.sk-toggleable__control:checked~label.sk-toggleable__label {background-color: #d4ebff;}#sk-container-id-1 div.sk-label input.sk-toggleable__control:checked~label.sk-toggleable__label {background-color: #d4ebff;}#sk-container-id-1 input.sk-hidden--visually {border: 0;clip: rect(1px 1px 1px 1px);clip: rect(1px, 1px, 1px, 1px);height: 1px;margin: -1px;overflow: hidden;padding: 0;position: absolute;width: 1px;}#sk-container-id-1 div.sk-estimator {font-family: monospace;background-color: #f0f8ff;border: 1px dotted black;border-radius: 0.25em;box-sizing: border-box;margin-bottom: 0.5em;}#sk-container-id-1 div.sk-estimator:hover {background-color: #d4ebff;}#sk-container-id-1 div.sk-parallel-item::after {content: \"\";width: 100%;border-bottom: 1px solid gray;flex-grow: 1;}#sk-container-id-1 div.sk-label:hover label.sk-toggleable__label {background-color: #d4ebff;}#sk-container-id-1 div.sk-serial::before {content: \"\";position: absolute;border-left: 1px solid gray;box-sizing: border-box;top: 0;bottom: 0;left: 50%;z-index: 0;}#sk-container-id-1 div.sk-serial {display: flex;flex-direction: column;align-items: center;background-color: white;padding-right: 0.2em;padding-left: 0.2em;position: relative;}#sk-container-id-1 div.sk-item {position: relative;z-index: 1;}#sk-container-id-1 div.sk-parallel {display: flex;align-items: stretch;justify-content: center;background-color: white;position: relative;}#sk-container-id-1 div.sk-item::before, #sk-container-id-1 div.sk-parallel-item::before {content: \"\";position: absolute;border-left: 1px solid gray;box-sizing: border-box;top: 0;bottom: 0;left: 50%;z-index: -1;}#sk-container-id-1 div.sk-parallel-item {display: flex;flex-direction: column;z-index: 1;position: relative;background-color: white;}#sk-container-id-1 div.sk-parallel-item:first-child::after {align-self: flex-end;width: 50%;}#sk-container-id-1 div.sk-parallel-item:last-child::after {align-self: flex-start;width: 50%;}#sk-container-id-1 div.sk-parallel-item:only-child::after {width: 0;}#sk-container-id-1 div.sk-dashed-wrapped {border: 1px dashed gray;margin: 0 0.4em 0.5em 0.4em;box-sizing: border-box;padding-bottom: 0.4em;background-color: white;}#sk-container-id-1 div.sk-label label {font-family: monospace;font-weight: bold;display: inline-block;line-height: 1.2em;}#sk-container-id-1 div.sk-label-container {text-align: center;}#sk-container-id-1 div.sk-container {/* jupyter's `normalize.less` sets `[hidden] { display: none; }` but bootstrap.min.css set `[hidden] { display: none !important; }` so we also need the `!important` here to be able to override the default hidden behavior on the sphinx rendered scikit-learn.org. See: https://github.com/scikit-learn/scikit-learn/issues/21755 */display: inline-block !important;position: relative;}#sk-container-id-1 div.sk-text-repr-fallback {display: none;}</style><div id=\"sk-container-id-1\" class=\"sk-top-container\"><div class=\"sk-text-repr-fallback\"><pre>SVC(C=1, class_weight=&#x27;balanced&#x27;, kernel=&#x27;linear&#x27;, probability=True)</pre><b>In a Jupyter environment, please rerun this cell to show the HTML representation or trust the notebook. <br />On GitHub, the HTML representation is unable to render, please try loading this page with nbviewer.org.</b></div><div class=\"sk-container\" hidden><div class=\"sk-item\"><div class=\"sk-estimator sk-toggleable\"><input class=\"sk-toggleable__control sk-hidden--visually\" id=\"sk-estimator-id-1\" type=\"checkbox\" checked><label for=\"sk-estimator-id-1\" class=\"sk-toggleable__label sk-toggleable__label-arrow\">SVC</label><div class=\"sk-toggleable__content\"><pre>SVC(C=1, class_weight=&#x27;balanced&#x27;, kernel=&#x27;linear&#x27;, probability=True)</pre></div></div></div></div></div>"
      ],
      "text/plain": [
       "SVC(C=1, class_weight='balanced', kernel='linear', probability=True)"
      ]
     },
     "execution_count": 7,
     "metadata": {},
     "output_type": "execute_result"
    }
   ],
   "source": [
    "#np.nan_to_num(X_train, copy=False)\n",
    "from sklearn.model_selection import train_test_split\n",
    "\n",
    "# split the data into training and testing\n",
    "X_tr, X_te, y_tr, y_te = train_test_split(X_train, y_train, test_size=0.2, random_state=42)\n",
    "\n",
    "# clf = RandomForestClassifier(n_jobs=-1, class_weight='balanced')\n",
    "\n",
    "# params = {\n",
    "#     'n_estimators': [16, 64, 128, 256],\n",
    "#     'max_features': ['sqrt', 'log2', None],\n",
    "#     'max_depth' : [4, 20, 100, None]\n",
    "# }\n",
    "# gscv = GridSearchCV(clf, params, cv=5, n_jobs=-1, verbose=1)\n",
    "# gscv.fit(X_tr, y_tr)\n",
    "\n",
    "# print(\"best params: \", gscv.best_params_)\n",
    "# print(\"best score: \", gscv.best_score_)\n",
    "\n",
    "clf = SVC(kernel='linear', C=1, class_weight='balanced', probability=True)\n",
    "clf.fit(X_tr, y_tr)"
   ]
  },
  {
   "cell_type": "code",
   "execution_count": 8,
   "metadata": {},
   "outputs": [
    {
     "name": "stdout",
     "output_type": "stream",
     "text": [
      "[[4475 1491]\n",
      " [ 226  969]]\n",
      "(array([-1.,  1.]), array([5966, 1195]))\n",
      "(array([-1.,  1.]), array([4701, 2460]))\n",
      "tn, fp, fn, tp [4475 1491  226  969]\n",
      "accuracy for training:  0.7602290182935344\n"
     ]
    }
   ],
   "source": [
    "y_train_pred = clf.predict(X_tr)\n",
    "print(confusion_matrix(y_tr, y_train_pred))\n",
    "print(np.unique(y_tr, return_counts=True))\n",
    "print(np.unique(y_train_pred, return_counts=True))\n",
    "print(\"tn, fp, fn, tp\", confusion_matrix(y_tr, y_train_pred).ravel())\n",
    "correct_count = 0\n",
    "for gt, p in zip(y_tr, y_train_pred):\n",
    "    if gt == p:\n",
    "        correct_count += 1\n",
    "print(\"accuracy for training: \", correct_count / len(y_tr))"
   ]
  },
  {
   "cell_type": "code",
   "execution_count": 9,
   "metadata": {},
   "outputs": [
    {
     "name": "stdout",
     "output_type": "stream",
     "text": [
      "[[1119  376]\n",
      " [  82  214]]\n",
      "(array([-1.,  1.]), array([1495,  296]))\n",
      "(array([-1.,  1.]), array([1201,  590]))\n",
      "tn, fp, fn, tp [1119  376   82  214]\n",
      "accuracy for training_test:  0.7442769402568398\n"
     ]
    }
   ],
   "source": [
    "from sklearn.metrics import confusion_matrix\n",
    "y_train_pred = clf.predict(X_te)\n",
    "print(confusion_matrix(y_te, y_train_pred))\n",
    "print(np.unique(y_te, return_counts=True))\n",
    "print(np.unique(y_train_pred, return_counts=True))\n",
    "print(\"tn, fp, fn, tp\", confusion_matrix(y_te, y_train_pred).ravel())\n",
    "correct_count = 0\n",
    "for gt, p in zip(y_te, y_train_pred):\n",
    "    if gt == p:\n",
    "        correct_count += 1\n",
    "print(\"accuracy for training_test: \", correct_count / len(y_te))"
   ]
  },
  {
   "cell_type": "code",
   "execution_count": 10,
   "metadata": {},
   "outputs": [
    {
     "name": "stdout",
     "output_type": "stream",
     "text": [
      "tn, fp, fn, tp [3782 1768  361  749]\n",
      "0.6803303303303303\n",
      "(array([-1.,  1.]), array([5550, 1110]))\n",
      "(array([-1.,  1.]), array([4143, 2517]))\n",
      "accuracy for testing:  0.6803303303303303\n"
     ]
    }
   ],
   "source": [
    "np.nan_to_num(X_test, copy=False)\n",
    "\n",
    "y_pred = clf.predict(X_test)\n",
    "print(\"tn, fp, fn, tp\", confusion_matrix(y_test, y_pred).ravel())\n",
    "print(clf.score(X_test, y_test))\n",
    "print(np.unique(y_test, return_counts=True))\n",
    "print(np.unique(y_pred, return_counts=True))\n",
    "correct_count = 0\n",
    "for gt, p in zip(y_test, y_pred):\n",
    "    if gt == p:\n",
    "        correct_count += 1\n",
    "print(\"accuracy for testing: \", correct_count / len(y_test))"
   ]
  }
 ],
 "metadata": {
  "kernelspec": {
   "display_name": "base",
   "language": "python",
   "name": "python3"
  },
  "language_info": {
   "codemirror_mode": {
    "name": "ipython",
    "version": 3
   },
   "file_extension": ".py",
   "mimetype": "text/x-python",
   "name": "python",
   "nbconvert_exporter": "python",
   "pygments_lexer": "ipython3",
   "version": "3.10.8"
  },
  "orig_nbformat": 4
 },
 "nbformat": 4,
 "nbformat_minor": 2
}
